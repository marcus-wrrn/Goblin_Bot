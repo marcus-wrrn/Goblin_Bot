{
 "cells": [
  {
   "attachments": {},
   "cell_type": "markdown",
   "metadata": {},
   "source": [
    "## Preprocess data"
   ]
  },
  {
   "cell_type": "code",
   "execution_count": null,
   "metadata": {},
   "outputs": [],
   "source": [
    "import pandas as pd\n",
    "import numpy as np"
   ]
  },
  {
   "cell_type": "code",
   "execution_count": 18,
   "metadata": {},
   "outputs": [
    {
     "name": "stdout",
     "output_type": "stream",
     "text": [
      "1: -5\n",
      "2: -4\n",
      "3: -4\n",
      "4: -3\n",
      "5: -3\n",
      "6: -2\n",
      "7: -2\n",
      "8: -1\n",
      "9: -1\n",
      "10: 0\n",
      "11: 0\n",
      "12: 1\n",
      "13: 1\n",
      "14: 2\n",
      "15: 2\n",
      "16: 3\n",
      "17: 3\n",
      "18: 4\n",
      "19: 4\n",
      "20: 5\n",
      "21: 5\n",
      "22: 6\n",
      "23: 6\n",
      "24: 7\n",
      "25: 7\n",
      "26: 8\n",
      "27: 8\n",
      "28: 9\n",
      "29: 9\n",
      "30: 10\n"
     ]
    }
   ],
   "source": [
    "\n",
    "# Gets modifier value for each stat\n",
    "def getModifier(stat, baseModifier=-5, startingStat=1, highestStat=30):\n",
    "    modifier = baseModifier\n",
    "    # if stat is equal to the base value return base modifier\n",
    "    if stat == startingStat: return modifier\n",
    "\n",
    "    # increment modifier by 1\n",
    "    modifier += 1\n",
    "    # Loop through all possible stat values and return the corresponding modifier value\n",
    "    for i in range(2, highestStat):\n",
    "        # if stat is between these values return the related modifier\n",
    "        if stat >= i and stat <= i + 1: return modifier\n",
    "        if not i % 2 == 1: modifier += 1\n",
    "    return modifier\n",
    "\n",
    "for val in range(1, 31):\n",
    "    print(f\"{val}: {getModifier(val)}\")"
   ]
  },
  {
   "cell_type": "code",
   "execution_count": null,
   "metadata": {},
   "outputs": [],
   "source": []
  }
 ],
 "metadata": {
  "kernelspec": {
   "display_name": ".venv",
   "language": "python",
   "name": "python3"
  },
  "language_info": {
   "codemirror_mode": {
    "name": "ipython",
    "version": 3
   },
   "file_extension": ".py",
   "mimetype": "text/x-python",
   "name": "python",
   "nbconvert_exporter": "python",
   "pygments_lexer": "ipython3",
   "version": "3.10.8"
  },
  "orig_nbformat": 4,
  "vscode": {
   "interpreter": {
    "hash": "d47694b5d5df9d32f7095686dbcf55167db7ee0546528109a6e8f472eedb4c60"
   }
  }
 },
 "nbformat": 4,
 "nbformat_minor": 2
}
