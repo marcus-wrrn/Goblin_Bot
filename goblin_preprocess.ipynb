{
 "cells": [
  {
   "attachments": {},
   "cell_type": "markdown",
   "metadata": {},
   "source": [
    "## Preprocess data"
   ]
  },
  {
   "cell_type": "code",
   "execution_count": 73,
   "metadata": {},
   "outputs": [],
   "source": [
    "import pandas as pd\n",
    "import numpy as np\n",
    "import matplotlib.pyplot as plt\n",
    "from statistics import mean, median, variance, stdev\n",
    "from fractions import Fraction\n",
    "import re"
   ]
  },
  {
   "attachments": {},
   "cell_type": "markdown",
   "metadata": {},
   "source": [
    "### Useful functions"
   ]
  },
  {
   "cell_type": "code",
   "execution_count": 26,
   "metadata": {},
   "outputs": [],
   "source": [
    "\n",
    "# Gets modifier value for each stat\n",
    "def getModifier(stat, baseModifier=-5, startingStat=1, highestStat=30):\n",
    "    modifier = baseModifier\n",
    "    # if stat is equal to the base value return base modifier\n",
    "    if stat == startingStat: return modifier\n",
    "\n",
    "    # increment modifier by 1\n",
    "    modifier += 1\n",
    "    # Loop through all possible stat values and return the corresponding modifier value\n",
    "    for i in range(2, highestStat):\n",
    "        # if stat is between these values return the related modifier\n",
    "        if stat >= i and stat <= i + 1: return modifier\n",
    "        if not i % 2 == 1: modifier += 1\n",
    "    return modifier\n",
    "\n",
    "def convertToFloat(val):\n",
    "    if type(val) == str:\n",
    "        return float(Fraction(val))\n",
    "    else:\n",
    "        return float(val)"
   ]
  },
  {
   "cell_type": "code",
   "execution_count": 130,
   "metadata": {},
   "outputs": [
    {
     "data": {
      "text/html": [
       "<div>\n",
       "<style scoped>\n",
       "    .dataframe tbody tr th:only-of-type {\n",
       "        vertical-align: middle;\n",
       "    }\n",
       "\n",
       "    .dataframe tbody tr th {\n",
       "        vertical-align: top;\n",
       "    }\n",
       "\n",
       "    .dataframe thead th {\n",
       "        text-align: right;\n",
       "    }\n",
       "</style>\n",
       "<table border=\"1\" class=\"dataframe\">\n",
       "  <thead>\n",
       "    <tr style=\"text-align: right;\">\n",
       "      <th></th>\n",
       "      <th>name</th>\n",
       "      <th>desc</th>\n",
       "      <th>cr</th>\n",
       "      <th>immunities</th>\n",
       "      <th>resists</th>\n",
       "      <th>conditions</th>\n",
       "      <th>wins</th>\n",
       "      <th>actions</th>\n",
       "      <th>hp</th>\n",
       "      <th>str</th>\n",
       "      <th>dex</th>\n",
       "      <th>con</th>\n",
       "      <th>int</th>\n",
       "      <th>wis</th>\n",
       "      <th>cha</th>\n",
       "      <th>ac</th>\n",
       "      <th>spd</th>\n",
       "    </tr>\n",
       "  </thead>\n",
       "  <tbody>\n",
       "    <tr>\n",
       "      <th>0</th>\n",
       "      <td>Wraith of Ogre Power</td>\n",
       "      <td>Medium Undead Neutral Evil</td>\n",
       "      <td>5</td>\n",
       "      <td>Necrotic,Poison,Charmed,Exhaustion,Grappled,Pa...</td>\n",
       "      <td>Acid,Cold,Fire,Lightning,Thunder,Bludgeoning,P...</td>\n",
       "      <td>Gauntlets of Ogre Power</td>\n",
       "      <td>Werebear, Air Elemental, Troll, Roper, CR 5</td>\n",
       "      <td>Life Drain: +11, 4d8+9 Necrotic &amp; Life Drain</td>\n",
       "      <td>39</td>\n",
       "      <td>19</td>\n",
       "      <td>16</td>\n",
       "      <td>16</td>\n",
       "      <td>12</td>\n",
       "      <td>14</td>\n",
       "      <td>15</td>\n",
       "      <td>13</td>\n",
       "      <td>60</td>\n",
       "    </tr>\n",
       "    <tr>\n",
       "      <th>1</th>\n",
       "      <td>Oni</td>\n",
       "      <td>Large Giant Lawful Evil</td>\n",
       "      <td>7</td>\n",
       "      <td>NaN</td>\n",
       "      <td>NaN</td>\n",
       "      <td>Death Defying,Regeneration</td>\n",
       "      <td>NaN</td>\n",
       "      <td>Glaive: +6, 10ft, 2d10+4 Slashing\\tMultiattack...</td>\n",
       "      <td>55</td>\n",
       "      <td>19</td>\n",
       "      <td>11</td>\n",
       "      <td>16</td>\n",
       "      <td>14</td>\n",
       "      <td>12</td>\n",
       "      <td>15</td>\n",
       "      <td>16</td>\n",
       "      <td>30</td>\n",
       "    </tr>\n",
       "    <tr>\n",
       "      <th>2</th>\n",
       "      <td>Giant Ape</td>\n",
       "      <td>Huge Beast Unaligned</td>\n",
       "      <td>7</td>\n",
       "      <td>NaN</td>\n",
       "      <td>NaN</td>\n",
       "      <td>Shielded</td>\n",
       "      <td>NaN</td>\n",
       "      <td>Fist: +8, 10ft, 3d10+6 Bludgeoning\\tRock: +8, ...</td>\n",
       "      <td>69</td>\n",
       "      <td>23</td>\n",
       "      <td>14</td>\n",
       "      <td>18</td>\n",
       "      <td>7</td>\n",
       "      <td>12</td>\n",
       "      <td>7</td>\n",
       "      <td>12</td>\n",
       "      <td>40</td>\n",
       "    </tr>\n",
       "    <tr>\n",
       "      <th>3</th>\n",
       "      <td>Young Brass Dragon</td>\n",
       "      <td>Large Dragon Chaotic Good</td>\n",
       "      <td>6</td>\n",
       "      <td>Fire</td>\n",
       "      <td>NaN</td>\n",
       "      <td>Reliable Damage</td>\n",
       "      <td>NaN</td>\n",
       "      <td>Multiattack: 10ft, Bite, 2 Claw\\tBite: +6, 10f...</td>\n",
       "      <td>61</td>\n",
       "      <td>19</td>\n",
       "      <td>10</td>\n",
       "      <td>17</td>\n",
       "      <td>12</td>\n",
       "      <td>11</td>\n",
       "      <td>15</td>\n",
       "      <td>17</td>\n",
       "      <td>80</td>\n",
       "    </tr>\n",
       "    <tr>\n",
       "      <th>4</th>\n",
       "      <td>Fire Elemental</td>\n",
       "      <td>Large Elemental Neutral</td>\n",
       "      <td>5</td>\n",
       "      <td>Fire,Poison,Exhaustion,Grappled,Paralyzed,Petr...</td>\n",
       "      <td>Bludgeoning,Piercing,Slashing</td>\n",
       "      <td>+2 CHA,Heated Body</td>\n",
       "      <td>NaN</td>\n",
       "      <td>Touch: +5, 2d6+3 Fire, On Fire\\tMultiattack: F...</td>\n",
       "      <td>46</td>\n",
       "      <td>10</td>\n",
       "      <td>17</td>\n",
       "      <td>16</td>\n",
       "      <td>6</td>\n",
       "      <td>10</td>\n",
       "      <td>9</td>\n",
       "      <td>13</td>\n",
       "      <td>50</td>\n",
       "    </tr>\n",
       "  </tbody>\n",
       "</table>\n",
       "</div>"
      ],
      "text/plain": [
       "                   name                        desc cr  \\\n",
       "0  Wraith of Ogre Power  Medium Undead Neutral Evil  5   \n",
       "1                   Oni     Large Giant Lawful Evil  7   \n",
       "2             Giant Ape        Huge Beast Unaligned  7   \n",
       "3    Young Brass Dragon   Large Dragon Chaotic Good  6   \n",
       "4        Fire Elemental     Large Elemental Neutral  5   \n",
       "\n",
       "                                          immunities  \\\n",
       "0  Necrotic,Poison,Charmed,Exhaustion,Grappled,Pa...   \n",
       "1                                                NaN   \n",
       "2                                                NaN   \n",
       "3                                               Fire   \n",
       "4  Fire,Poison,Exhaustion,Grappled,Paralyzed,Petr...   \n",
       "\n",
       "                                             resists  \\\n",
       "0  Acid,Cold,Fire,Lightning,Thunder,Bludgeoning,P...   \n",
       "1                                                NaN   \n",
       "2                                                NaN   \n",
       "3                                                NaN   \n",
       "4                      Bludgeoning,Piercing,Slashing   \n",
       "\n",
       "                   conditions                                         wins  \\\n",
       "0     Gauntlets of Ogre Power  Werebear, Air Elemental, Troll, Roper, CR 5   \n",
       "1  Death Defying,Regeneration                                          NaN   \n",
       "2                    Shielded                                          NaN   \n",
       "3             Reliable Damage                                          NaN   \n",
       "4          +2 CHA,Heated Body                                          NaN   \n",
       "\n",
       "                                             actions  hp  str  dex  con  int  \\\n",
       "0       Life Drain: +11, 4d8+9 Necrotic & Life Drain  39   19   16   16   12   \n",
       "1  Glaive: +6, 10ft, 2d10+4 Slashing\\tMultiattack...  55   19   11   16   14   \n",
       "2  Fist: +8, 10ft, 3d10+6 Bludgeoning\\tRock: +8, ...  69   23   14   18    7   \n",
       "3  Multiattack: 10ft, Bite, 2 Claw\\tBite: +6, 10f...  61   19   10   17   12   \n",
       "4  Touch: +5, 2d6+3 Fire, On Fire\\tMultiattack: F...  46   10   17   16    6   \n",
       "\n",
       "   wis  cha  ac  spd  \n",
       "0   14   15  13   60  \n",
       "1   12   15  16   30  \n",
       "2   12    7  12   40  \n",
       "3   11   15  17   80  \n",
       "4   10    9  13   50  "
      ]
     },
     "execution_count": 130,
     "metadata": {},
     "output_type": "execute_result"
    }
   ],
   "source": [
    "# Get data\n",
    "dfWin = pd.read_csv(\"./DataFrames/Winners.csv\", index_col=0)\n",
    "dfLose = pd.read_csv(\"./DataFrames/Losers.csv\", index_col=0)\n",
    "dfWin.head()"
   ]
  },
  {
   "attachments": {},
   "cell_type": "markdown",
   "metadata": {},
   "source": [
    "#### Compare data distribution"
   ]
  },
  {
   "cell_type": "code",
   "execution_count": 185,
   "metadata": {},
   "outputs": [
    {
     "name": "stdout",
     "output_type": "stream",
     "text": [
      "Mean: -0.04272959183673469\n",
      " Median: 0.0\n",
      "StdDev: 3.574688361951265\n"
     ]
    },
    {
     "data": {
      "text/plain": [
       "[]"
      ]
     },
     "execution_count": 185,
     "metadata": {},
     "output_type": "execute_result"
    },
    {
     "data": {
      "image/png": "[encoded data removed]",
      "text/plain": [
       "<Figure size 640x480 with 1 Axes>"
      ]
     },
     "metadata": {},
     "output_type": "display_data"
    }
   ],
   "source": [
    "def convertCRToFloat(row):\n",
    "    return convertToFloat(row)\n",
    "\n",
    "def getLength(row: str):\n",
    "    if row != row:\n",
    "        return 0\n",
    "    vals = row.split(',')\n",
    "    return len(vals)\n",
    "\n",
    "dfWin['cr'] = dfWin.apply(lambda row: convertCRToFloat(row['cr']), axis=1)\n",
    "dfLose['cr'] = dfLose.apply(lambda row: convertCRToFloat(row['cr']), axis=1)\n",
    "# Due to an error in cr a few data points have \n",
    "\n",
    "\n",
    "\n",
    "dfWin['winlen'] = dfWin.apply(lambda row: getLength(row['wins']), axis=1)\n",
    "dfLose['winlen'] = dfLose.apply(lambda row: getLength(row['wins']), axis=1)\n",
    "\n",
    "def findDifference(dfWin: pd.DataFrame, dfLose: pd.DataFrame, stat):\n",
    "    for (index, rWin), (_, rLose) in zip(dfWin.iterrows(), dfLose.iterrows()):\n",
    "        # If a stat is greater than a believable amount make the stat equal to its opponent\n",
    "        # This allows for better generalization of the data\n",
    "        if rWin[stat] >= 900: rWin[stat] = rLose[stat]\n",
    "        if rLose[stat] >= 900: rLose[stat] = rWin[stat]\n",
    "        # Return list of all stats\n",
    "        yield rWin[stat] - rLose[stat]\n",
    "\n",
    "\n",
    "\n",
    "dif = list(findDifference(dfWin, dfLose, 'wis'))\n",
    "\n",
    "\n",
    "\n",
    "print(f\"Mean: {mean(dif)}\\n Median: {median(dif)}\\nStdDev: {stdev(dif)}\")\n",
    "plt.hist(dif, rwidth=0.5)\n",
    "plt.plot()"
   ]
  },
  {
   "cell_type": "code",
   "execution_count": 155,
   "metadata": {},
   "outputs": [
    {
     "data": {
      "text/plain": [
       "[]"
      ]
     },
     "execution_count": 155,
     "metadata": {},
     "output_type": "execute_result"
    },
    {
     "data": {
      "image/png": "[encoded data removed]",
      "text/plain": [
       "<Figure size 640x480 with 3 Axes>"
      ]
     },
     "metadata": {},
     "output_type": "display_data"
    }
   ],
   "source": [
    "# Compare HP\n",
    "fig, axes = plt.subplots(1,3)\n",
    "dfWin.hist(['ac', 'spd', 'hp'], bins=30, ax=axes)\n",
    "plt.plot()"
   ]
  },
  {
   "cell_type": "code",
   "execution_count": 156,
   "metadata": {},
   "outputs": [
    {
     "data": {
      "text/plain": [
       "[]"
      ]
     },
     "execution_count": 156,
     "metadata": {},
     "output_type": "execute_result"
    },
    {
     "data": {
      "image/png": "[encoded data removed]",
      "text/plain": [
       "<Figure size 640x480 with 3 Axes>"
      ]
     },
     "metadata": {},
     "output_type": "display_data"
    }
   ],
   "source": [
    "fig, axes = plt.subplots(1,3)\n",
    "dfLose.hist(['ac', 'spd', 'hp'], bins=30, ax=axes)\n",
    "plt.plot()"
   ]
  },
  {
   "cell_type": "code",
   "execution_count": 95,
   "metadata": {},
   "outputs": [
    {
     "name": "stdout",
     "output_type": "stream",
     "text": [
      "[list(['Life Drain: +11, 4d8+9 Necrotic & Life Drain'])\n",
      " list(['Glaive: +6, 10ft, 2d10+4 Slashing', 'Multiattack: 10ft, 2 Glaive', 'Charm Person: 30ft, Charmed (WIS Save) (If Humanoid)', 'Sleep: 90ft, Asleep (WIS Save)', 'Cone of Cold: 60ft, 8d8 Cold (CON Save)'])\n",
      " list(['Fist: +8, 10ft, 3d10+6 Bludgeoning', 'Rock: +8, 50ft, 7d6+6 Bludgeoning', 'Multiattack: 10ft, 2 Fist', 'Shield: +5 to AC, Reaction'])\n",
      " ...\n",
      " list(['Multiattack: Bite, Claws, Horns', 'Breath Weapon Combo: 15ft, Fire Breath, Bite, Claws', 'Bite: +1, 2d6+20 Piercing', 'Horns: +1, 1d12+20 Bludgeoning', 'Claws: +1, 2d6+20 Slashing', 'Fire Breath: 15ft, 7d8 Fire (DEX Save)'])\n",
      " list(['Charm: 30ft, Charmed (WIS Save) (If Humanoid)', 'Bite: +8, 1d6+4 Piercing, 3d6 Necrotic & Vampirism (If Grappled & Restrained)', 'Unarmed Strike: +8, 1d8+4 Bludgeoning (If Grappled & Restrained), Grappled & Restrained (If Not Grappled & Restrained)', 'Multiattack: Unarmed Strike, Bite, Unarmed Punch', 'Multistrike: 2 Unarmed Strike'])\n",
      " list(['Flame Strike L6: 60ft, 5d6 Radiant (DEX Save), 4d6 Fire (DEX Save)', 'First Roar: 500ft, Frightened (WIS Save), Roared Once', 'Second Roar: 500ft, Androsphinx Roar (WIS Save), Roared Twice (If Roared Once)', 'Third Roar: 500ft, 8d10 Thunder (CON Save) (If Roared Twice)', 'Claw: +11, 2d10+6 Slashing', 'Multiattack: 2 Claw', 'Sacred Flame: 60ft, 3d8+0 Radiant (DEX Save)', 'Banish: 60ft, Banished (CHA Save) (If Elemental/\\u200bFiend/\\u200bCelestial/\\u200bFey/\\u200bAberration)', 'Flame Strike: 60ft, 4d6 Radiant (DEX Save), 4d6 Fire (DEX Save)'])]\n"
     ]
    }
   ],
   "source": [
    "# Code to extract expected damage value per turn of each creature\n",
    "# TODO: Finish code and refine regex\n",
    "\n",
    "\n",
    "def getActions(row):\n",
    "    # Get regex patterns\n",
    "    \n",
    "    # Action name\n",
    "    patName = ':' \n",
    "    patMod = r'(\\d+),'\n",
    "    patVals = r'(\\d+)(d)(\\d+)(\\+)(\\d+)|(\\d+)(d)(\\d+)'\n",
    "    patEffects = r'(Slashing|Piercing|Bludgeoning|Poison|Acid|Fire|Cold|Radiant|Necrotic|Lightning|Thunder|Force|Psychic)'\n",
    "    patConds = r'(Blinded|Charmed|Deafened|Frightened|Grappled|Incapacitated|Invisible|Paralyzed|Petrified|Poisoned|Prone|Psychic|Restrained|Stunned|Unconscious|Exhaustion)'\n",
    "\n",
    "    # Seperate all actions into seperate values\n",
    "    actions = row.split('\\t')\n",
    "\n",
    "    return actions\n",
    "\n",
    "\n",
    "\n",
    "actions = dfWin.apply(lambda row: getActions(row[\"actions\"]), axis=1)\n",
    "\n",
    "print(actions.to_numpy())"
   ]
  },
  {
   "cell_type": "code",
   "execution_count": 40,
   "metadata": {},
   "outputs": [
    {
     "name": "stdout",
     "output_type": "stream",
     "text": [
      "[('1', 'd', '16', '+', '1', '', '', '')]\n"
     ]
    }
   ],
   "source": [
    "\n",
    "\n",
    "actions = {\"name\": [], \"modifier\": [], \"vals\": [], \"effects\": [], \"conditions\": []}\n",
    "action = \"Shortsword: +3, 1d16+1 Piercing, Sneak Attack\"\n",
    "valsPat1 = r\",\\s*(-?\\d+(?:\\.\\d+)?)\\s*(?:\\w+\\s*)*,\"\n",
    "valsPat2 = r'(\\d+)(d)(\\d+)(\\+)(\\d+)|(\\d+)(d)(\\d+)'\n",
    "name = action.split(':')[0]\n",
    "modifier = re.findall(r':\\s*(-?\\+?\\d+),', action)\n",
    "vals = re.findall(valsPat2, action)\n",
    "effects = re.findall(r'(Slashing|Piercing|Bludgeoning|Poison|Acid|Fire|Cold|Radiant|Necrotic|Lightning|Thunder|Force|Psychic)', action)\n",
    "conditions = re.findall(r'(Blinded|Charmed|Deafened|Frightened|Grappled|Incapacitated|Invisible|Paralyzed|Petrified|Poisoned|Prone|Psychic|Restrained|Stunned|Unconscious|Exhaustion)', action)\n",
    "\n",
    "# Append all values\n",
    "actions[\"name\"].append(name)\n",
    "actions[\"modifier\"].append(modifier)\n",
    "actions[\"vals\"].append(vals)\n",
    "actions[\"effects\"].append(effects)\n",
    "actions[\"conditions\"].append(conditions)\n",
    "\n",
    "\n",
    "print(vals)"
   ]
  }
 ],
 "metadata": {
  "kernelspec": {
   "display_name": ".venv",
   "language": "python",
   "name": "python3"
  },
  "language_info": {
   "codemirror_mode": {
    "name": "ipython",
    "version": 3
   },
   "file_extension": ".py",
   "mimetype": "text/x-python",
   "name": "python",
   "nbconvert_exporter": "python",
   "pygments_lexer": "ipython3",
   "version": "3.10.8"
  },
  "orig_nbformat": 4,
  "vscode": {
   "interpreter": {
    "hash": "d47694b5d5df9d32f7095686dbcf55167db7ee0546528109a6e8f472eedb4c60"
   }
  }
 },
 "nbformat": 4,
 "nbformat_minor": 2
}
