{
 "cells": [
  {
   "attachments": {},
   "cell_type": "markdown",
   "metadata": {},
   "source": [
    "## Preprocess data"
   ]
  },
  {
   "cell_type": "code",
   "execution_count": 3,
   "metadata": {},
   "outputs": [],
   "source": [
    "import pandas as pd\n",
    "import numpy as np\n",
    "import re"
   ]
  },
  {
   "cell_type": "code",
   "execution_count": 1,
   "metadata": {},
   "outputs": [],
   "source": [
    "\n",
    "# Gets modifier value for each stat\n",
    "def getModifier(stat, baseModifier=-5, startingStat=1, highestStat=30):\n",
    "    modifier = baseModifier\n",
    "    # if stat is equal to the base value return base modifier\n",
    "    if stat == startingStat: return modifier\n",
    "\n",
    "    # increment modifier by 1\n",
    "    modifier += 1\n",
    "    # Loop through all possible stat values and return the corresponding modifier value\n",
    "    for i in range(2, highestStat):\n",
    "        # if stat is between these values return the related modifier\n",
    "        if stat >= i and stat <= i + 1: return modifier\n",
    "        if not i % 2 == 1: modifier += 1\n",
    "    return modifier\n",
    "\n",
    "# Gets the regex "
   ]
  },
  {
   "cell_type": "code",
   "execution_count": 74,
   "metadata": {},
   "outputs": [
    {
     "name": "stdout",
     "output_type": "stream",
     "text": [
      "Claws\n"
     ]
    }
   ],
   "source": [
    "actions = {\"name\": [], \"modifier\": [], \"vals\": [], \"effects\": [], \"conditions\": []}\n",
    "action = \"\"\n",
    "\n",
    "name = action.split(':')[0]\n",
    "modifier = int(re.findall(r'(\\d+),', action)[0])\n",
    "vals = re.findall(r'(\\d+)(d)(\\d+)(\\+)(\\d+)|(\\d+)(d)(\\d+)', action)\n",
    "effects = re.findall(r'(Slashing|Piercing|Bludgeoning|Poison|Acid|Fire|Cold|Radiant|Necrotic|Lightning|Thunder|Force|Psychic)', action)\n",
    "conditions = re.findall(r'(Blinded|Charmed|Deafened|Frightened|Grappled|Incapacitated|Invisible|Paralyzed|Petrified|Poisoned|Prone|Psychic|Restrained|Stunned|Unconscious|Exhaustion)', action)\n",
    "\n",
    "# Append all values\n",
    "actions[\"name\"].append(name)\n",
    "actions[\"modifier\"].append(modifier)\n",
    "actions[\"vals\"].append(vals)\n",
    "actions[\"effects\"].append(effects)\n",
    "actions[\"conditions\"].append(conditions)\n",
    "\n",
    "\n",
    "print(name)"
   ]
  }
 ],
 "metadata": {
  "kernelspec": {
   "display_name": ".venv",
   "language": "python",
   "name": "python3"
  },
  "language_info": {
   "codemirror_mode": {
    "name": "ipython",
    "version": 3
   },
   "file_extension": ".py",
   "mimetype": "text/x-python",
   "name": "python",
   "nbconvert_exporter": "python",
   "pygments_lexer": "ipython3",
   "version": "3.10.8"
  },
  "orig_nbformat": 4,
  "vscode": {
   "interpreter": {
    "hash": "d47694b5d5df9d32f7095686dbcf55167db7ee0546528109a6e8f472eedb4c60"
   }
  }
 },
 "nbformat": 4,
 "nbformat_minor": 2
}
