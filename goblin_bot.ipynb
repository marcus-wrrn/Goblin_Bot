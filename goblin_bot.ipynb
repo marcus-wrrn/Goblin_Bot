{
 "cells": [
  {
   "cell_type": "code",
   "execution_count": 27,
   "metadata": {},
   "outputs": [],
   "source": [
    "import pandas as pd\n",
    "import numpy as np\n",
    "from sklearn.model_selection import train_test_split\n",
    "from sklearn.metrics import confusion_matrix, classification_report\n",
    "from sklearn.neural_network import MLPClassifier\n",
    "from fractions import Fraction\n",
    "import pickle"
   ]
  },
  {
   "cell_type": "code",
   "execution_count": 28,
   "metadata": {},
   "outputs": [
    {
     "data": {
      "text/html": [
       "<div>\n",
       "<style scoped>\n",
       "    .dataframe tbody tr th:only-of-type {\n",
       "        vertical-align: middle;\n",
       "    }\n",
       "\n",
       "    .dataframe tbody tr th {\n",
       "        vertical-align: top;\n",
       "    }\n",
       "\n",
       "    .dataframe thead th {\n",
       "        text-align: right;\n",
       "    }\n",
       "</style>\n",
       "<table border=\"1\" class=\"dataframe\">\n",
       "  <thead>\n",
       "    <tr style=\"text-align: right;\">\n",
       "      <th></th>\n",
       "      <th>name</th>\n",
       "      <th>desc</th>\n",
       "      <th>cr</th>\n",
       "      <th>immunities</th>\n",
       "      <th>resists</th>\n",
       "      <th>conditions</th>\n",
       "      <th>wins</th>\n",
       "      <th>actions</th>\n",
       "      <th>hp</th>\n",
       "      <th>str</th>\n",
       "      <th>dex</th>\n",
       "      <th>con</th>\n",
       "      <th>int</th>\n",
       "      <th>wis</th>\n",
       "      <th>cha</th>\n",
       "      <th>ac</th>\n",
       "      <th>spd</th>\n",
       "    </tr>\n",
       "  </thead>\n",
       "  <tbody>\n",
       "    <tr>\n",
       "      <th>0</th>\n",
       "      <td>Wraith of Ogre Power</td>\n",
       "      <td>Medium Undead Neutral Evil</td>\n",
       "      <td>5</td>\n",
       "      <td>Necrotic,Poison,Charmed,Exhaustion,Grappled,Pa...</td>\n",
       "      <td>Acid,Cold,Fire,Lightning,Thunder,Bludgeoning,P...</td>\n",
       "      <td>Gauntlets of Ogre Power</td>\n",
       "      <td>Werebear, Air Elemental, Troll, Roper, CR 5</td>\n",
       "      <td>Life Drain: +11, 4d8+9 Necrotic &amp; Life Drain</td>\n",
       "      <td>39</td>\n",
       "      <td>19</td>\n",
       "      <td>16</td>\n",
       "      <td>16</td>\n",
       "      <td>12</td>\n",
       "      <td>14</td>\n",
       "      <td>15</td>\n",
       "      <td>13</td>\n",
       "      <td>60</td>\n",
       "    </tr>\n",
       "    <tr>\n",
       "      <th>1</th>\n",
       "      <td>Oni</td>\n",
       "      <td>Large Giant Lawful Evil</td>\n",
       "      <td>7</td>\n",
       "      <td>NaN</td>\n",
       "      <td>NaN</td>\n",
       "      <td>Death Defying,Regeneration</td>\n",
       "      <td>NaN</td>\n",
       "      <td>Glaive: +6, 10ft, 2d10+4 Slashing\\tMultiattack...</td>\n",
       "      <td>55</td>\n",
       "      <td>19</td>\n",
       "      <td>11</td>\n",
       "      <td>16</td>\n",
       "      <td>14</td>\n",
       "      <td>12</td>\n",
       "      <td>15</td>\n",
       "      <td>16</td>\n",
       "      <td>30</td>\n",
       "    </tr>\n",
       "    <tr>\n",
       "      <th>2</th>\n",
       "      <td>Giant Ape</td>\n",
       "      <td>Huge Beast Unaligned</td>\n",
       "      <td>7</td>\n",
       "      <td>NaN</td>\n",
       "      <td>NaN</td>\n",
       "      <td>Shielded</td>\n",
       "      <td>NaN</td>\n",
       "      <td>Fist: +8, 10ft, 3d10+6 Bludgeoning\\tRock: +8, ...</td>\n",
       "      <td>69</td>\n",
       "      <td>23</td>\n",
       "      <td>14</td>\n",
       "      <td>18</td>\n",
       "      <td>7</td>\n",
       "      <td>12</td>\n",
       "      <td>7</td>\n",
       "      <td>12</td>\n",
       "      <td>40</td>\n",
       "    </tr>\n",
       "    <tr>\n",
       "      <th>3</th>\n",
       "      <td>Young Brass Dragon</td>\n",
       "      <td>Large Dragon Chaotic Good</td>\n",
       "      <td>6</td>\n",
       "      <td>Fire</td>\n",
       "      <td>NaN</td>\n",
       "      <td>Reliable Damage</td>\n",
       "      <td>NaN</td>\n",
       "      <td>Multiattack: 10ft, Bite, 2 Claw\\tBite: +6, 10f...</td>\n",
       "      <td>61</td>\n",
       "      <td>19</td>\n",
       "      <td>10</td>\n",
       "      <td>17</td>\n",
       "      <td>12</td>\n",
       "      <td>11</td>\n",
       "      <td>15</td>\n",
       "      <td>17</td>\n",
       "      <td>80</td>\n",
       "    </tr>\n",
       "    <tr>\n",
       "      <th>4</th>\n",
       "      <td>Fire Elemental</td>\n",
       "      <td>Large Elemental Neutral</td>\n",
       "      <td>5</td>\n",
       "      <td>Fire,Poison,Exhaustion,Grappled,Paralyzed,Petr...</td>\n",
       "      <td>Bludgeoning,Piercing,Slashing</td>\n",
       "      <td>+2 CHA,Heated Body</td>\n",
       "      <td>NaN</td>\n",
       "      <td>Touch: +5, 2d6+3 Fire, On Fire\\tMultiattack: F...</td>\n",
       "      <td>46</td>\n",
       "      <td>10</td>\n",
       "      <td>17</td>\n",
       "      <td>16</td>\n",
       "      <td>6</td>\n",
       "      <td>10</td>\n",
       "      <td>9</td>\n",
       "      <td>13</td>\n",
       "      <td>50</td>\n",
       "    </tr>\n",
       "  </tbody>\n",
       "</table>\n",
       "</div>"
      ],
      "text/plain": [
       "                   name                        desc cr  \\\n",
       "0  Wraith of Ogre Power  Medium Undead Neutral Evil  5   \n",
       "1                   Oni     Large Giant Lawful Evil  7   \n",
       "2             Giant Ape        Huge Beast Unaligned  7   \n",
       "3    Young Brass Dragon   Large Dragon Chaotic Good  6   \n",
       "4        Fire Elemental     Large Elemental Neutral  5   \n",
       "\n",
       "                                          immunities  \\\n",
       "0  Necrotic,Poison,Charmed,Exhaustion,Grappled,Pa...   \n",
       "1                                                NaN   \n",
       "2                                                NaN   \n",
       "3                                               Fire   \n",
       "4  Fire,Poison,Exhaustion,Grappled,Paralyzed,Petr...   \n",
       "\n",
       "                                             resists  \\\n",
       "0  Acid,Cold,Fire,Lightning,Thunder,Bludgeoning,P...   \n",
       "1                                                NaN   \n",
       "2                                                NaN   \n",
       "3                                                NaN   \n",
       "4                      Bludgeoning,Piercing,Slashing   \n",
       "\n",
       "                   conditions                                         wins  \\\n",
       "0     Gauntlets of Ogre Power  Werebear, Air Elemental, Troll, Roper, CR 5   \n",
       "1  Death Defying,Regeneration                                          NaN   \n",
       "2                    Shielded                                          NaN   \n",
       "3             Reliable Damage                                          NaN   \n",
       "4          +2 CHA,Heated Body                                          NaN   \n",
       "\n",
       "                                             actions  hp  str  dex  con  int  \\\n",
       "0       Life Drain: +11, 4d8+9 Necrotic & Life Drain  39   19   16   16   12   \n",
       "1  Glaive: +6, 10ft, 2d10+4 Slashing\\tMultiattack...  55   19   11   16   14   \n",
       "2  Fist: +8, 10ft, 3d10+6 Bludgeoning\\tRock: +8, ...  69   23   14   18    7   \n",
       "3  Multiattack: 10ft, Bite, 2 Claw\\tBite: +6, 10f...  61   19   10   17   12   \n",
       "4  Touch: +5, 2d6+3 Fire, On Fire\\tMultiattack: F...  46   10   17   16    6   \n",
       "\n",
       "   wis  cha  ac  spd  \n",
       "0   14   15  13   60  \n",
       "1   12   15  16   30  \n",
       "2   12    7  12   40  \n",
       "3   11   15  17   80  \n",
       "4   10    9  13   50  "
      ]
     },
     "execution_count": 28,
     "metadata": {},
     "output_type": "execute_result"
    }
   ],
   "source": [
    "# Import data\n",
    "dfWin = pd.read_csv(\"./Winners.csv\", index_col=0)\n",
    "dfLose = pd.read_csv(\"./Losers.csv\", index_col=0)\n",
    "dfWin.head()"
   ]
  },
  {
   "attachments": {},
   "cell_type": "markdown",
   "metadata": {},
   "source": [
    "I forgot to put which side the winner and loser were on, therefore I need to randomize where to put the winning creature and where to put the losing creature.\n",
    "This will allow the model from not constantly predicting the creature on a specific side"
   ]
  },
  {
   "cell_type": "code",
   "execution_count": 51,
   "metadata": {},
   "outputs": [
    {
     "name": "stdout",
     "output_type": "stream",
     "text": [
      "[0. 0. 1. ... 0. 1. 1.]\n"
     ]
    }
   ],
   "source": [
    "import random\n",
    "# Returns all stat values of a dataframe as a 2d array\n",
    "def getStatsValues(df: pd.DataFrame):\n",
    "    return df.loc[:, [\"cr\", \"hp\", \"str\", \"dex\", \"con\", \"int\", \"wis\", \"cha\", \"ac\", \"spd\"]].values\n",
    "\n",
    "def convertToFloat(val):\n",
    "    if type(val) == str:\n",
    "        return float(Fraction(val))\n",
    "    else:\n",
    "        return float(val)\n",
    "\n",
    "dfWin[\"cr\"] = dfWin.apply(lambda row: convertToFloat(row[\"cr\"]), axis=1)\n",
    "dfLose[\"cr\"] = dfLose.apply(lambda row: convertToFloat(row[\"cr\"]), axis=1)\n",
    "# Get Input values\n",
    "dfWinStats = getStatsValues(dfWin)\n",
    "dfLoseStats = getStatsValues(dfLose)\n",
    "# Append input values together\n",
    "dfStats = np.concatenate([dfWinStats, dfLoseStats], axis=1)\n",
    "# Generate random list representing which side won and which side lost\n",
    "\n",
    "# Make the right side outputs equal 1\n",
    "rightSide = np.ones(dfStats.shape[0]//2)\n",
    "# Make left side be zero\n",
    "leftSide = np.zeros(dfStats.shape[0]//2)\n",
    "# Append all values to targets\n",
    "targets = np.append(leftSide, rightSide)\n",
    "# Shuffle results\n",
    "random.shuffle(targets)\n",
    "\n",
    "\n",
    "data = []\n",
    "\n",
    "for i in range(dfWinStats.shape[0]):\n",
    "    if targets[i]:\n",
    "        res = np.concatenate([dfLoseStats[i], dfWinStats[i]])\n",
    "    else:\n",
    "        res = np.concatenate([dfWinStats[i], dfLoseStats[i]])\n",
    "    data.append(res)"
   ]
  },
  {
   "cell_type": "code",
   "execution_count": 52,
   "metadata": {},
   "outputs": [
    {
     "name": "stdout",
     "output_type": "stream",
     "text": [
      "One: 1018\n",
      "Zero: 1018\n"
     ]
    }
   ],
   "source": [
    "# Get the distribution of target values\n",
    "\n",
    "one = 0\n",
    "zero = 0\n",
    "\n",
    "for val in targets:\n",
    "    if val:\n",
    "        one += 1\n",
    "    else:\n",
    "        zero += 1\n",
    "\n",
    "print(f\"One: {one}\")\n",
    "print(f\"Zero: {zero}\")"
   ]
  },
  {
   "cell_type": "code",
   "execution_count": 53,
   "metadata": {},
   "outputs": [],
   "source": [
    "splitSize = 0.8\n",
    "\n",
    "X_train, X_test, y_train, y_test = train_test_split(data, targets, test_size=(1-splitSize), random_state=47)\n"
   ]
  },
  {
   "cell_type": "code",
   "execution_count": 54,
   "metadata": {},
   "outputs": [
    {
     "name": "stdout",
     "output_type": "stream",
     "text": [
      "20\n"
     ]
    }
   ],
   "source": [
    "print(len(X_test[0]))"
   ]
  },
  {
   "cell_type": "code",
   "execution_count": 55,
   "metadata": {},
   "outputs": [
    {
     "data": {
      "text/html": [
       "<style>#sk-container-id-14 {color: black;background-color: white;}#sk-container-id-14 pre{padding: 0;}#sk-container-id-14 div.sk-toggleable {background-color: white;}#sk-container-id-14 label.sk-toggleable__label {cursor: pointer;display: block;width: 100%;margin-bottom: 0;padding: 0.3em;box-sizing: border-box;text-align: center;}#sk-container-id-14 label.sk-toggleable__label-arrow:before {content: \"▸\";float: left;margin-right: 0.25em;color: #696969;}#sk-container-id-14 label.sk-toggleable__label-arrow:hover:before {color: black;}#sk-container-id-14 div.sk-estimator:hover label.sk-toggleable__label-arrow:before {color: black;}#sk-container-id-14 div.sk-toggleable__content {max-height: 0;max-width: 0;overflow: hidden;text-align: left;background-color: #f0f8ff;}#sk-container-id-14 div.sk-toggleable__content pre {margin: 0.2em;color: black;border-radius: 0.25em;background-color: #f0f8ff;}#sk-container-id-14 input.sk-toggleable__control:checked~div.sk-toggleable__content {max-height: 200px;max-width: 100%;overflow: auto;}#sk-container-id-14 input.sk-toggleable__control:checked~label.sk-toggleable__label-arrow:before {content: \"▾\";}#sk-container-id-14 div.sk-estimator input.sk-toggleable__control:checked~label.sk-toggleable__label {background-color: #d4ebff;}#sk-container-id-14 div.sk-label input.sk-toggleable__control:checked~label.sk-toggleable__label {background-color: #d4ebff;}#sk-container-id-14 input.sk-hidden--visually {border: 0;clip: rect(1px 1px 1px 1px);clip: rect(1px, 1px, 1px, 1px);height: 1px;margin: -1px;overflow: hidden;padding: 0;position: absolute;width: 1px;}#sk-container-id-14 div.sk-estimator {font-family: monospace;background-color: #f0f8ff;border: 1px dotted black;border-radius: 0.25em;box-sizing: border-box;margin-bottom: 0.5em;}#sk-container-id-14 div.sk-estimator:hover {background-color: #d4ebff;}#sk-container-id-14 div.sk-parallel-item::after {content: \"\";width: 100%;border-bottom: 1px solid gray;flex-grow: 1;}#sk-container-id-14 div.sk-label:hover label.sk-toggleable__label {background-color: #d4ebff;}#sk-container-id-14 div.sk-serial::before {content: \"\";position: absolute;border-left: 1px solid gray;box-sizing: border-box;top: 0;bottom: 0;left: 50%;z-index: 0;}#sk-container-id-14 div.sk-serial {display: flex;flex-direction: column;align-items: center;background-color: white;padding-right: 0.2em;padding-left: 0.2em;position: relative;}#sk-container-id-14 div.sk-item {position: relative;z-index: 1;}#sk-container-id-14 div.sk-parallel {display: flex;align-items: stretch;justify-content: center;background-color: white;position: relative;}#sk-container-id-14 div.sk-item::before, #sk-container-id-14 div.sk-parallel-item::before {content: \"\";position: absolute;border-left: 1px solid gray;box-sizing: border-box;top: 0;bottom: 0;left: 50%;z-index: -1;}#sk-container-id-14 div.sk-parallel-item {display: flex;flex-direction: column;z-index: 1;position: relative;background-color: white;}#sk-container-id-14 div.sk-parallel-item:first-child::after {align-self: flex-end;width: 50%;}#sk-container-id-14 div.sk-parallel-item:last-child::after {align-self: flex-start;width: 50%;}#sk-container-id-14 div.sk-parallel-item:only-child::after {width: 0;}#sk-container-id-14 div.sk-dashed-wrapped {border: 1px dashed gray;margin: 0 0.4em 0.5em 0.4em;box-sizing: border-box;padding-bottom: 0.4em;background-color: white;}#sk-container-id-14 div.sk-label label {font-family: monospace;font-weight: bold;display: inline-block;line-height: 1.2em;}#sk-container-id-14 div.sk-label-container {text-align: center;}#sk-container-id-14 div.sk-container {/* jupyter's `normalize.less` sets `[hidden] { display: none; }` but bootstrap.min.css set `[hidden] { display: none !important; }` so we also need the `!important` here to be able to override the default hidden behavior on the sphinx rendered scikit-learn.org. See: https://github.com/scikit-learn/scikit-learn/issues/21755 */display: inline-block !important;position: relative;}#sk-container-id-14 div.sk-text-repr-fallback {display: none;}</style><div id=\"sk-container-id-14\" class=\"sk-top-container\"><div class=\"sk-text-repr-fallback\"><pre>MLPClassifier(hidden_layer_sizes=(2000, 1000, 80), learning_rate_init=1e-05,\n",
       "              max_iter=100000, solver=&#x27;lbfgs&#x27;)</pre><b>In a Jupyter environment, please rerun this cell to show the HTML representation or trust the notebook. <br />On GitHub, the HTML representation is unable to render, please try loading this page with nbviewer.org.</b></div><div class=\"sk-container\" hidden><div class=\"sk-item\"><div class=\"sk-estimator sk-toggleable\"><input class=\"sk-toggleable__control sk-hidden--visually\" id=\"sk-estimator-id-14\" type=\"checkbox\" checked><label for=\"sk-estimator-id-14\" class=\"sk-toggleable__label sk-toggleable__label-arrow\">MLPClassifier</label><div class=\"sk-toggleable__content\"><pre>MLPClassifier(hidden_layer_sizes=(2000, 1000, 80), learning_rate_init=1e-05,\n",
       "              max_iter=100000, solver=&#x27;lbfgs&#x27;)</pre></div></div></div></div></div>"
      ],
      "text/plain": [
       "MLPClassifier(hidden_layer_sizes=(2000, 1000, 80), learning_rate_init=1e-05,\n",
       "              max_iter=100000, solver='lbfgs')"
      ]
     },
     "execution_count": 55,
     "metadata": {},
     "output_type": "execute_result"
    }
   ],
   "source": [
    "from sklearn.metrics import accuracy_score\n",
    "from sklearn.model_selection import RandomizedSearchCV\n",
    "\n",
    "# params = { 'hidden_layer_sizes': [(200, 100, 90), (2000, 500, 80), (2000, 1500, 80), (3000, 1000, 80)]\n",
    "#             'solver': ['lbfgs']\n",
    "# }\n",
    "\n",
    "clf = MLPClassifier(hidden_layer_sizes=(2000, 1000, 80), max_iter=100000, solver='lbfgs', learning_rate_init=1e-4, momentum=0.9)\n",
    "\n",
    "#gs = GridSearchCV(clf)\n",
    "\n",
    "clf.fit(X_train, y_train)"
   ]
  },
  {
   "cell_type": "code",
   "execution_count": 56,
   "metadata": {},
   "outputs": [
    {
     "name": "stdout",
     "output_type": "stream",
     "text": [
      "              precision    recall  f1-score   support\n",
      "\n",
      "         0.0       0.57      0.63      0.60       198\n",
      "         1.0       0.61      0.56      0.58       210\n",
      "\n",
      "    accuracy                           0.59       408\n",
      "   macro avg       0.59      0.59      0.59       408\n",
      "weighted avg       0.59      0.59      0.59       408\n",
      "\n"
     ]
    }
   ],
   "source": [
    "predictions = clf.predict(X_test)\n",
    "print(classification_report(y_test, predictions))\n",
    "\n"
   ]
  },
  {
   "cell_type": "code",
   "execution_count": null,
   "metadata": {},
   "outputs": [],
   "source": []
  },
  {
   "cell_type": "code",
   "execution_count": 57,
   "metadata": {},
   "outputs": [],
   "source": [
    "\n",
    "\n",
    "# save the classifier to a file\n",
    "with open(\"classifier_lbfgs64_perc.pkl\", \"wb\") as file:\n",
    "    pickle.dump(clf, file)"
   ]
  },
  {
   "cell_type": "code",
   "execution_count": null,
   "metadata": {},
   "outputs": [],
   "source": []
  },
  {
   "cell_type": "code",
   "execution_count": 58,
   "metadata": {},
   "outputs": [
    {
     "name": "stdout",
     "output_type": "stream",
     "text": [
      "              precision    recall  f1-score   support\n",
      "\n",
      "         0.0       0.57      0.63      0.60       198\n",
      "         1.0       0.61      0.56      0.58       210\n",
      "\n",
      "    accuracy                           0.59       408\n",
      "   macro avg       0.59      0.59      0.59       408\n",
      "weighted avg       0.59      0.59      0.59       408\n",
      "\n"
     ]
    }
   ],
   "source": [
    "# load the saved classifier from the file\n",
    "with open(\"classifier_lbfgs64_perc.pkl\", \"rb\") as file:\n",
    "    clf = pickle.load(file)\n",
    "\n",
    "predictions = clf.predict(X_test)\n",
    "print(classification_report(y_test, predictions))"
   ]
  },
  {
   "cell_type": "code",
   "execution_count": 400,
   "metadata": {},
   "outputs": [
    {
     "data": {
      "text/html": [
       "<style>#sk-container-id-92 {color: black;background-color: white;}#sk-container-id-92 pre{padding: 0;}#sk-container-id-92 div.sk-toggleable {background-color: white;}#sk-container-id-92 label.sk-toggleable__label {cursor: pointer;display: block;width: 100%;margin-bottom: 0;padding: 0.3em;box-sizing: border-box;text-align: center;}#sk-container-id-92 label.sk-toggleable__label-arrow:before {content: \"▸\";float: left;margin-right: 0.25em;color: #696969;}#sk-container-id-92 label.sk-toggleable__label-arrow:hover:before {color: black;}#sk-container-id-92 div.sk-estimator:hover label.sk-toggleable__label-arrow:before {color: black;}#sk-container-id-92 div.sk-toggleable__content {max-height: 0;max-width: 0;overflow: hidden;text-align: left;background-color: #f0f8ff;}#sk-container-id-92 div.sk-toggleable__content pre {margin: 0.2em;color: black;border-radius: 0.25em;background-color: #f0f8ff;}#sk-container-id-92 input.sk-toggleable__control:checked~div.sk-toggleable__content {max-height: 200px;max-width: 100%;overflow: auto;}#sk-container-id-92 input.sk-toggleable__control:checked~label.sk-toggleable__label-arrow:before {content: \"▾\";}#sk-container-id-92 div.sk-estimator input.sk-toggleable__control:checked~label.sk-toggleable__label {background-color: #d4ebff;}#sk-container-id-92 div.sk-label input.sk-toggleable__control:checked~label.sk-toggleable__label {background-color: #d4ebff;}#sk-container-id-92 input.sk-hidden--visually {border: 0;clip: rect(1px 1px 1px 1px);clip: rect(1px, 1px, 1px, 1px);height: 1px;margin: -1px;overflow: hidden;padding: 0;position: absolute;width: 1px;}#sk-container-id-92 div.sk-estimator {font-family: monospace;background-color: #f0f8ff;border: 1px dotted black;border-radius: 0.25em;box-sizing: border-box;margin-bottom: 0.5em;}#sk-container-id-92 div.sk-estimator:hover {background-color: #d4ebff;}#sk-container-id-92 div.sk-parallel-item::after {content: \"\";width: 100%;border-bottom: 1px solid gray;flex-grow: 1;}#sk-container-id-92 div.sk-label:hover label.sk-toggleable__label {background-color: #d4ebff;}#sk-container-id-92 div.sk-serial::before {content: \"\";position: absolute;border-left: 1px solid gray;box-sizing: border-box;top: 0;bottom: 0;left: 50%;z-index: 0;}#sk-container-id-92 div.sk-serial {display: flex;flex-direction: column;align-items: center;background-color: white;padding-right: 0.2em;padding-left: 0.2em;position: relative;}#sk-container-id-92 div.sk-item {position: relative;z-index: 1;}#sk-container-id-92 div.sk-parallel {display: flex;align-items: stretch;justify-content: center;background-color: white;position: relative;}#sk-container-id-92 div.sk-item::before, #sk-container-id-92 div.sk-parallel-item::before {content: \"\";position: absolute;border-left: 1px solid gray;box-sizing: border-box;top: 0;bottom: 0;left: 50%;z-index: -1;}#sk-container-id-92 div.sk-parallel-item {display: flex;flex-direction: column;z-index: 1;position: relative;background-color: white;}#sk-container-id-92 div.sk-parallel-item:first-child::after {align-self: flex-end;width: 50%;}#sk-container-id-92 div.sk-parallel-item:last-child::after {align-self: flex-start;width: 50%;}#sk-container-id-92 div.sk-parallel-item:only-child::after {width: 0;}#sk-container-id-92 div.sk-dashed-wrapped {border: 1px dashed gray;margin: 0 0.4em 0.5em 0.4em;box-sizing: border-box;padding-bottom: 0.4em;background-color: white;}#sk-container-id-92 div.sk-label label {font-family: monospace;font-weight: bold;display: inline-block;line-height: 1.2em;}#sk-container-id-92 div.sk-label-container {text-align: center;}#sk-container-id-92 div.sk-container {/* jupyter's `normalize.less` sets `[hidden] { display: none; }` but bootstrap.min.css set `[hidden] { display: none !important; }` so we also need the `!important` here to be able to override the default hidden behavior on the sphinx rendered scikit-learn.org. See: https://github.com/scikit-learn/scikit-learn/issues/21755 */display: inline-block !important;position: relative;}#sk-container-id-92 div.sk-text-repr-fallback {display: none;}</style><div id=\"sk-container-id-92\" class=\"sk-top-container\"><div class=\"sk-text-repr-fallback\"><pre>MLPClassifier(hidden_layer_sizes=(2000, 1000, 80), learning_rate_init=1e-05,\n",
       "              max_iter=10000000)</pre><b>In a Jupyter environment, please rerun this cell to show the HTML representation or trust the notebook. <br />On GitHub, the HTML representation is unable to render, please try loading this page with nbviewer.org.</b></div><div class=\"sk-container\" hidden><div class=\"sk-item\"><div class=\"sk-estimator sk-toggleable\"><input class=\"sk-toggleable__control sk-hidden--visually\" id=\"sk-estimator-id-92\" type=\"checkbox\" checked><label for=\"sk-estimator-id-92\" class=\"sk-toggleable__label sk-toggleable__label-arrow\">MLPClassifier</label><div class=\"sk-toggleable__content\"><pre>MLPClassifier(hidden_layer_sizes=(2000, 1000, 80), learning_rate_init=1e-05,\n",
       "              max_iter=10000000)</pre></div></div></div></div></div>"
      ],
      "text/plain": [
       "MLPClassifier(hidden_layer_sizes=(2000, 1000, 80), learning_rate_init=1e-05,\n",
       "              max_iter=10000000)"
      ]
     },
     "execution_count": 400,
     "metadata": {},
     "output_type": "execute_result"
    }
   ],
   "source": [
    "clf"
   ]
  }
 ],
 "metadata": {
  "kernelspec": {
   "display_name": ".venv",
   "language": "python",
   "name": "python3"
  },
  "language_info": {
   "codemirror_mode": {
    "name": "ipython",
    "version": 3
   },
   "file_extension": ".py",
   "mimetype": "text/x-python",
   "name": "python",
   "nbconvert_exporter": "python",
   "pygments_lexer": "ipython3",
   "version": "3.10.8 (main, Nov 14 2022, 00:00:00) [GCC 12.2.1 20220819 (Red Hat 12.2.1-2)]"
  },
  "orig_nbformat": 4,
  "vscode": {
   "interpreter": {
    "hash": "d47694b5d5df9d32f7095686dbcf55167db7ee0546528109a6e8f472eedb4c60"
   }
  }
 },
 "nbformat": 4,
 "nbformat_minor": 2
}
