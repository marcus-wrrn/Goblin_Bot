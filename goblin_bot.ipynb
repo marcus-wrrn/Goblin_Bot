{
 "cells": [
  {
   "cell_type": "code",
   "execution_count": 1,
   "metadata": {},
   "outputs": [],
   "source": [
    "import pandas as pd\n",
    "import numpy as np\n",
    "from sklearn.model_selection import train_test_split\n",
    "from sklearn.metrics import confusion_matrix, classification_report\n",
    "from sklearn.neural_network import MLPClassifier\n",
    "from sklearn.preprocessing import MinMaxScaler\n",
    "from fractions import Fraction\n",
    "import pickle\n",
    "import random"
   ]
  },
  {
   "cell_type": "code",
   "execution_count": 2,
   "metadata": {},
   "outputs": [
    {
     "data": {
      "text/html": [
       "<div>\n",
       "<style scoped>\n",
       "    .dataframe tbody tr th:only-of-type {\n",
       "        vertical-align: middle;\n",
       "    }\n",
       "\n",
       "    .dataframe tbody tr th {\n",
       "        vertical-align: top;\n",
       "    }\n",
       "\n",
       "    .dataframe thead th {\n",
       "        text-align: right;\n",
       "    }\n",
       "</style>\n",
       "<table border=\"1\" class=\"dataframe\">\n",
       "  <thead>\n",
       "    <tr style=\"text-align: right;\">\n",
       "      <th></th>\n",
       "      <th>name</th>\n",
       "      <th>desc</th>\n",
       "      <th>cr</th>\n",
       "      <th>immunities</th>\n",
       "      <th>resists</th>\n",
       "      <th>conditions</th>\n",
       "      <th>wins</th>\n",
       "      <th>actions</th>\n",
       "      <th>hp</th>\n",
       "      <th>str</th>\n",
       "      <th>dex</th>\n",
       "      <th>con</th>\n",
       "      <th>int</th>\n",
       "      <th>wis</th>\n",
       "      <th>cha</th>\n",
       "      <th>ac</th>\n",
       "      <th>spd</th>\n",
       "      <th>winlen</th>\n",
       "      <th>expected_dmg</th>\n",
       "    </tr>\n",
       "  </thead>\n",
       "  <tbody>\n",
       "    <tr>\n",
       "      <th>0</th>\n",
       "      <td>Wraith of Ogre Power</td>\n",
       "      <td>Medium Undead Neutral Evil</td>\n",
       "      <td>5.0</td>\n",
       "      <td>Necrotic,Poison,Charmed,Exhaustion,Grappled,Pa...</td>\n",
       "      <td>Acid,Cold,Fire,Lightning,Thunder,Bludgeoning,P...</td>\n",
       "      <td>Gauntlets of Ogre Power</td>\n",
       "      <td>Werebear, Air Elemental, Troll, Roper, CR 5</td>\n",
       "      <td>Life Drain: +11, 4d8+9 Necrotic &amp; Life Drain</td>\n",
       "      <td>39</td>\n",
       "      <td>19</td>\n",
       "      <td>16</td>\n",
       "      <td>16</td>\n",
       "      <td>12</td>\n",
       "      <td>14</td>\n",
       "      <td>15</td>\n",
       "      <td>13</td>\n",
       "      <td>60</td>\n",
       "      <td>5</td>\n",
       "      <td>18.396</td>\n",
       "    </tr>\n",
       "    <tr>\n",
       "      <th>1</th>\n",
       "      <td>Oni</td>\n",
       "      <td>Large Giant Lawful Evil</td>\n",
       "      <td>7.0</td>\n",
       "      <td>NaN</td>\n",
       "      <td>NaN</td>\n",
       "      <td>Death Defying,Regeneration</td>\n",
       "      <td>NaN</td>\n",
       "      <td>Glaive: +6, 10ft, 2d10+4 Slashing\\tMultiattack...</td>\n",
       "      <td>55</td>\n",
       "      <td>19</td>\n",
       "      <td>11</td>\n",
       "      <td>16</td>\n",
       "      <td>14</td>\n",
       "      <td>12</td>\n",
       "      <td>15</td>\n",
       "      <td>16</td>\n",
       "      <td>30</td>\n",
       "      <td>0</td>\n",
       "      <td>7.961</td>\n",
       "    </tr>\n",
       "    <tr>\n",
       "      <th>2</th>\n",
       "      <td>Giant Ape</td>\n",
       "      <td>Huge Beast Unaligned</td>\n",
       "      <td>7.0</td>\n",
       "      <td>NaN</td>\n",
       "      <td>NaN</td>\n",
       "      <td>Shielded</td>\n",
       "      <td>NaN</td>\n",
       "      <td>Fist: +8, 10ft, 3d10+6 Bludgeoning\\tRock: +8, ...</td>\n",
       "      <td>69</td>\n",
       "      <td>23</td>\n",
       "      <td>14</td>\n",
       "      <td>18</td>\n",
       "      <td>7</td>\n",
       "      <td>12</td>\n",
       "      <td>7</td>\n",
       "      <td>12</td>\n",
       "      <td>40</td>\n",
       "      <td>0</td>\n",
       "      <td>12.907</td>\n",
       "    </tr>\n",
       "    <tr>\n",
       "      <th>3</th>\n",
       "      <td>Young Brass Dragon</td>\n",
       "      <td>Large Dragon Chaotic Good</td>\n",
       "      <td>6.0</td>\n",
       "      <td>Fire</td>\n",
       "      <td>NaN</td>\n",
       "      <td>Reliable Damage</td>\n",
       "      <td>NaN</td>\n",
       "      <td>Multiattack: 10ft, Bite, 2 Claw\\tBite: +6, 10f...</td>\n",
       "      <td>61</td>\n",
       "      <td>19</td>\n",
       "      <td>10</td>\n",
       "      <td>17</td>\n",
       "      <td>12</td>\n",
       "      <td>11</td>\n",
       "      <td>15</td>\n",
       "      <td>17</td>\n",
       "      <td>80</td>\n",
       "      <td>0</td>\n",
       "      <td>35.000</td>\n",
       "    </tr>\n",
       "    <tr>\n",
       "      <th>4</th>\n",
       "      <td>Fire Elemental</td>\n",
       "      <td>Large Elemental Neutral</td>\n",
       "      <td>5.0</td>\n",
       "      <td>Fire,Poison,Exhaustion,Grappled,Paralyzed,Petr...</td>\n",
       "      <td>Bludgeoning,Piercing,Slashing</td>\n",
       "      <td>+2 CHA,Heated Body</td>\n",
       "      <td>NaN</td>\n",
       "      <td>Touch: +5, 2d6+3 Fire, On Fire\\tMultiattack: F...</td>\n",
       "      <td>46</td>\n",
       "      <td>10</td>\n",
       "      <td>17</td>\n",
       "      <td>16</td>\n",
       "      <td>6</td>\n",
       "      <td>10</td>\n",
       "      <td>9</td>\n",
       "      <td>13</td>\n",
       "      <td>50</td>\n",
       "      <td>0</td>\n",
       "      <td>14.116</td>\n",
       "    </tr>\n",
       "  </tbody>\n",
       "</table>\n",
       "</div>"
      ],
      "text/plain": [
       "                   name                        desc   cr  \\\n",
       "0  Wraith of Ogre Power  Medium Undead Neutral Evil  5.0   \n",
       "1                   Oni     Large Giant Lawful Evil  7.0   \n",
       "2             Giant Ape        Huge Beast Unaligned  7.0   \n",
       "3    Young Brass Dragon   Large Dragon Chaotic Good  6.0   \n",
       "4        Fire Elemental     Large Elemental Neutral  5.0   \n",
       "\n",
       "                                          immunities  \\\n",
       "0  Necrotic,Poison,Charmed,Exhaustion,Grappled,Pa...   \n",
       "1                                                NaN   \n",
       "2                                                NaN   \n",
       "3                                               Fire   \n",
       "4  Fire,Poison,Exhaustion,Grappled,Paralyzed,Petr...   \n",
       "\n",
       "                                             resists  \\\n",
       "0  Acid,Cold,Fire,Lightning,Thunder,Bludgeoning,P...   \n",
       "1                                                NaN   \n",
       "2                                                NaN   \n",
       "3                                                NaN   \n",
       "4                      Bludgeoning,Piercing,Slashing   \n",
       "\n",
       "                   conditions                                         wins  \\\n",
       "0     Gauntlets of Ogre Power  Werebear, Air Elemental, Troll, Roper, CR 5   \n",
       "1  Death Defying,Regeneration                                          NaN   \n",
       "2                    Shielded                                          NaN   \n",
       "3             Reliable Damage                                          NaN   \n",
       "4          +2 CHA,Heated Body                                          NaN   \n",
       "\n",
       "                                             actions  hp  str  dex  con  int  \\\n",
       "0       Life Drain: +11, 4d8+9 Necrotic & Life Drain  39   19   16   16   12   \n",
       "1  Glaive: +6, 10ft, 2d10+4 Slashing\\tMultiattack...  55   19   11   16   14   \n",
       "2  Fist: +8, 10ft, 3d10+6 Bludgeoning\\tRock: +8, ...  69   23   14   18    7   \n",
       "3  Multiattack: 10ft, Bite, 2 Claw\\tBite: +6, 10f...  61   19   10   17   12   \n",
       "4  Touch: +5, 2d6+3 Fire, On Fire\\tMultiattack: F...  46   10   17   16    6   \n",
       "\n",
       "   wis  cha  ac  spd  winlen  expected_dmg  \n",
       "0   14   15  13   60       5        18.396  \n",
       "1   12   15  16   30       0         7.961  \n",
       "2   12    7  12   40       0        12.907  \n",
       "3   11   15  17   80       0        35.000  \n",
       "4   10    9  13   50       0        14.116  "
      ]
     },
     "execution_count": 2,
     "metadata": {},
     "output_type": "execute_result"
    }
   ],
   "source": [
    "# Import data\n",
    "dfWin = pd.read_csv(\"./DataFrames/WinnersProcessed.csv\", index_col=0).dropna(subset=[\"expected_dmg\"]).reset_index(drop=True)\n",
    "dfLose = pd.read_csv(\"./DataFrames/LosersProcessed.csv\", index_col=0).dropna(subset=[\"expected_dmg\"]).reset_index(drop=True)\n",
    "dfWin.head()"
   ]
  },
  {
   "attachments": {},
   "cell_type": "markdown",
   "metadata": {},
   "source": [
    "I forgot to put which side the winner and loser were on, therefore I need to randomize where to put the winning creature and where to put the losing creature.\n",
    "This will allow the model from not constantly predicting the creature on a specific side"
   ]
  },
  {
   "cell_type": "code",
   "execution_count": 41,
   "metadata": {},
   "outputs": [],
   "source": [
    "import random\n",
    "# Returns all stat values of a dataframe as a 2d array\n",
    "def getStatsValues(df: pd.DataFrame):\n",
    "    return df.loc[:, [\"cr\", \"hp\", \"str\", \"dex\", \"con\", \"int\", \"wis\", \"cha\", \"ac\", \"spd\", \"expected_dmg\"]].values\n",
    "\n",
    "def convertToFloat(val):\n",
    "    if type(val) == str:\n",
    "        return float(Fraction(val))\n",
    "    else:\n",
    "        return float(val)\n",
    "\n",
    "dfWin[\"cr\"] = dfWin.apply(lambda row: convertToFloat(row[\"cr\"]), axis=1)\n",
    "dfLose[\"cr\"] = dfLose.apply(lambda row: convertToFloat(row[\"cr\"]), axis=1)\n",
    "# Get Input values\n",
    "dfWinStats = getStatsValues(dfWin)\n",
    "dfLoseStats = getStatsValues(dfLose)\n",
    "# Append input values together\n",
    "dfStats = np.concatenate([dfWinStats, dfLoseStats], axis=1)\n",
    "# Generate random list representing which side won and which side lost\n",
    "\n",
    "# Make the right side outputs equal 1\n",
    "rightSide = np.ones(dfStats.shape[0]//2)\n",
    "# Make left side be zero\n",
    "leftSide = np.zeros(dfStats.shape[0]//2)\n",
    "# Append all values to targets\n",
    "targets = np.append(leftSide, rightSide)\n",
    "# Shuffle results\n",
    "random.shuffle(targets)\n",
    "\n",
    "\n",
    "data = []\n",
    "\n",
    "for i in range(dfWinStats.shape[0] - 1):\n",
    "    if targets[i]:\n",
    "        res = np.concatenate([dfLoseStats[i], dfWinStats[i]])\n",
    "    else:\n",
    "        res = np.concatenate([dfWinStats[i], dfLoseStats[i]])\n",
    "    data.append(res)"
   ]
  },
  {
   "cell_type": "code",
   "execution_count": 3,
   "metadata": {},
   "outputs": [
    {
     "data": {
      "text/plain": [
       "array([[0.53571429, 0.5625    , 0.35      , ..., 0.44642857, 0.36363636,\n",
       "        0.41665311],\n",
       "       [0.5       , 0.5625    , 0.5       , ..., 0.44642857, 0.49090909,\n",
       "        0.48753231],\n",
       "       [0.64285714, 0.5       , 0.45      , ..., 0.42857143, 0.41818182,\n",
       "        0.47037188],\n",
       "       ...,\n",
       "       [0.60714286, 0.4921875 , 0.5       , ..., 0.57142857, 0.65454545,\n",
       "        0.49893749],\n",
       "       [0.46428571, 0.5       , 0.45      , ..., 0.375     , 0.50909091,\n",
       "        0.49093041],\n",
       "       [0.5       , 0.5       , 0.35      , ..., 0.41071429, 0.45454545,\n",
       "        0.48903992]])"
      ]
     },
     "execution_count": 3,
     "metadata": {},
     "output_type": "execute_result"
    }
   ],
   "source": [
    "def convertToFloat(val):\n",
    "    if type(val) == str:\n",
    "        return float(Fraction(val))\n",
    "    else:\n",
    "        return float(val)\n",
    "\n",
    "def getDifData(df1: pd.DataFrame, df2: pd.DataFrame, targets: list, stats=['ac', 'cr', 'spd', 'hp', 'str', 'dex', 'con', 'int', 'wis', 'cha', 'expected_dmg']):\n",
    "    vals = np.zeros((df1.shape[0], len(stats)))\n",
    "    for (i, r1), (_, r2) in zip(df1.iterrows(), df2.iterrows()):\n",
    "        for j, stat in enumerate(stats):\n",
    "            # If a stat is greater than a believable amount make the stat equal to its opponent\n",
    "            # This allows for better generalization of the data\n",
    "            if r1[stat] >= 900: r1[stat] = r2[stat]\n",
    "            if r2[stat] >= 900: r2[stat] = r1[stat]\n",
    "            vals[i, j] = r1[stat] - r2[stat] if targets[i] else r2[stat] - r1[stat]\n",
    "    return vals\n",
    "\n",
    "\n",
    "rightSize = dfWin.shape[0]//2\n",
    "leftSize = dfWin.shape[0] - rightSize\n",
    "# Make the right side outputs equal 1\n",
    "rightSide = np.ones(rightSize)\n",
    "# Make left side be zero\n",
    "leftSide = np.zeros(leftSize)\n",
    "# Append all values to targets\n",
    "targets = np.append(leftSide, rightSide)\n",
    "# Shuffle results\n",
    "random.shuffle(targets)\n",
    "\n",
    "\n",
    "dfWin[\"cr\"] = dfWin.apply(lambda row: convertToFloat(row[\"cr\"]), axis=1)\n",
    "dfLose[\"cr\"] = dfLose.apply(lambda row: convertToFloat(row[\"cr\"]), axis=1)\n",
    "\n",
    "data = getDifData(dfWin, dfLose, targets)\n",
    "\n",
    "# Create scaler\n",
    "scaler = MinMaxScaler()\n",
    "scaler.fit(data)\n",
    "data = scaler.transform(data)\n",
    "data"
   ]
  },
  {
   "cell_type": "code",
   "execution_count": 43,
   "metadata": {},
   "outputs": [],
   "source": [
    "# Find better ways to normalize results does not work currently\n",
    "\n",
    "# def normalize(point):\n",
    "#     if not point:\n",
    "#         return 0\n",
    "#     else: return 1/point\n",
    "\n",
    "# for i in range(data.shape[0]):\n",
    "#     for j in range(data.shape[1]):\n",
    "#         data[i,j] = normalize(data[i,j])\n",
    "# data"
   ]
  },
  {
   "cell_type": "code",
   "execution_count": 44,
   "metadata": {},
   "outputs": [
    {
     "name": "stdout",
     "output_type": "stream",
     "text": [
      "One: 5454\n",
      "Zero: 5454\n"
     ]
    }
   ],
   "source": [
    "# Get the distribution of target values\n",
    "\n",
    "one = 0\n",
    "zero = 0\n",
    "\n",
    "for val in targets:\n",
    "    if val:\n",
    "        one += 1\n",
    "    else:\n",
    "        zero += 1\n",
    "\n",
    "print(f\"One: {one}\")\n",
    "print(f\"Zero: {zero}\")"
   ]
  },
  {
   "cell_type": "code",
   "execution_count": 4,
   "metadata": {},
   "outputs": [],
   "source": [
    "splitSize = 0.80\n",
    "\n",
    "X_train, X_test, y_train, y_test = train_test_split(data, targets, test_size=(1-splitSize), random_state=47)\n"
   ]
  },
  {
   "cell_type": "code",
   "execution_count": 46,
   "metadata": {},
   "outputs": [
    {
     "name": "stdout",
     "output_type": "stream",
     "text": [
      "11\n"
     ]
    }
   ],
   "source": [
    "print(len(X_test[0]))"
   ]
  },
  {
   "cell_type": "code",
   "execution_count": 5,
   "metadata": {},
   "outputs": [
    {
     "name": "stdout",
     "output_type": "stream",
     "text": [
      "RUNNING THE L-BFGS-B CODE\n",
      "\n",
      "           * * *\n",
      "\n",
      "Machine precision = 2.220D-16\n",
      " N =     20124001     M =           10\n",
      "\n",
      "At X0         0 variables are exactly at the bounds\n"
     ]
    },
    {
     "name": "stderr",
     "output_type": "stream",
     "text": [
      " This problem is unconstrained.\n"
     ]
    },
    {
     "name": "stdout",
     "output_type": "stream",
     "text": [
      "\n",
      "At iterate    0    f=  6.93317D-01    |proj g|=  9.59157D-03\n",
      "\n",
      "At iterate    1    f=  6.93116D-01    |proj g|=  8.45121D-04\n",
      "\n",
      "At iterate    2    f=  6.80713D-01    |proj g|=  9.39870D-03\n",
      "\n",
      "At iterate    3    f=  6.73347D-01    |proj g|=  2.13319D-02\n",
      "\n",
      "At iterate    4    f=  6.70494D-01    |proj g|=  1.15136D-02\n",
      "\n",
      "At iterate    5    f=  6.69562D-01    |proj g|=  5.75000D-03\n",
      "\n",
      "At iterate    6    f=  6.68396D-01    |proj g|=  2.07418D-03\n",
      "\n",
      "At iterate    7    f=  6.65161D-01    |proj g|=  3.19852D-03\n",
      "\n",
      "At iterate    8    f=  6.60236D-01    |proj g|=  3.65084D-03\n",
      "\n",
      "At iterate    9    f=  6.57943D-01    |proj g|=  2.51256D-02\n",
      "\n",
      "At iterate   10    f=  6.54792D-01    |proj g|=  1.20696D-03\n",
      "\n",
      "At iterate   11    f=  6.53723D-01    |proj g|=  3.39864D-03\n",
      "\n",
      "At iterate   12    f=  6.52760D-01    |proj g|=  1.87454D-03\n",
      "\n",
      "At iterate   13    f=  6.50926D-01    |proj g|=  2.23464D-02\n",
      "\n",
      "At iterate   14    f=  6.49603D-01    |proj g|=  5.53379D-03\n",
      "\n",
      "At iterate   15    f=  6.49356D-01    |proj g|=  1.16024D-03\n",
      "\n",
      "At iterate   16    f=  6.49321D-01    |proj g|=  1.47252D-04\n",
      "\n",
      "At iterate   17    f=  6.49148D-01    |proj g|=  1.39834D-03\n",
      "\n",
      "At iterate   18    f=  6.48600D-01    |proj g|=  2.54744D-03\n",
      "\n",
      "At iterate   19    f=  6.47995D-01    |proj g|=  3.10474D-04\n",
      "\n",
      "At iterate   20    f=  6.47686D-01    |proj g|=  1.70022D-04\n",
      "\n",
      "At iterate   21    f=  6.47666D-01    |proj g|=  2.14221D-03\n",
      "\n",
      "At iterate   22    f=  6.47600D-01    |proj g|=  2.04802D-04\n",
      "\n",
      "At iterate   23    f=  6.47595D-01    |proj g|=  2.63144D-04\n",
      "\n",
      "At iterate   24    f=  6.47592D-01    |proj g|=  4.34032D-04\n",
      "\n",
      "At iterate   25    f=  6.47580D-01    |proj g|=  6.50641D-04\n",
      "\n",
      "At iterate   26    f=  6.47567D-01    |proj g|=  1.66930D-03\n",
      "\n",
      "At iterate   27    f=  6.47546D-01    |proj g|=  9.82970D-04\n",
      "\n",
      "At iterate   28    f=  6.47526D-01    |proj g|=  3.86574D-05\n",
      "\n",
      "           * * *\n",
      "\n",
      "Tit   = total number of iterations\n",
      "Tnf   = total number of function evaluations\n",
      "Tnint = total number of segments explored during Cauchy searches\n",
      "Skip  = number of BFGS updates skipped\n",
      "Nact  = number of active bounds at final generalized Cauchy point\n",
      "Projg = norm of the final projected gradient\n",
      "F     = final function value\n",
      "\n",
      "           * * *\n",
      "\n",
      "   N    Tit     Tnf  Tnint  Skip  Nact     Projg        F\n",
      "*****     28     36      1     0     0   3.866D-05   6.475D-01\n",
      "  F =  0.64752567854553222     \n",
      "\n",
      "CONVERGENCE: NORM_OF_PROJECTED_GRADIENT_<=_PGTOL            \n"
     ]
    },
    {
     "data": {
      "text/html": [
       "<style>#sk-container-id-1 {color: black;background-color: white;}#sk-container-id-1 pre{padding: 0;}#sk-container-id-1 div.sk-toggleable {background-color: white;}#sk-container-id-1 label.sk-toggleable__label {cursor: pointer;display: block;width: 100%;margin-bottom: 0;padding: 0.3em;box-sizing: border-box;text-align: center;}#sk-container-id-1 label.sk-toggleable__label-arrow:before {content: \"▸\";float: left;margin-right: 0.25em;color: #696969;}#sk-container-id-1 label.sk-toggleable__label-arrow:hover:before {color: black;}#sk-container-id-1 div.sk-estimator:hover label.sk-toggleable__label-arrow:before {color: black;}#sk-container-id-1 div.sk-toggleable__content {max-height: 0;max-width: 0;overflow: hidden;text-align: left;background-color: #f0f8ff;}#sk-container-id-1 div.sk-toggleable__content pre {margin: 0.2em;color: black;border-radius: 0.25em;background-color: #f0f8ff;}#sk-container-id-1 input.sk-toggleable__control:checked~div.sk-toggleable__content {max-height: 200px;max-width: 100%;overflow: auto;}#sk-container-id-1 input.sk-toggleable__control:checked~label.sk-toggleable__label-arrow:before {content: \"▾\";}#sk-container-id-1 div.sk-estimator input.sk-toggleable__control:checked~label.sk-toggleable__label {background-color: #d4ebff;}#sk-container-id-1 div.sk-label input.sk-toggleable__control:checked~label.sk-toggleable__label {background-color: #d4ebff;}#sk-container-id-1 input.sk-hidden--visually {border: 0;clip: rect(1px 1px 1px 1px);clip: rect(1px, 1px, 1px, 1px);height: 1px;margin: -1px;overflow: hidden;padding: 0;position: absolute;width: 1px;}#sk-container-id-1 div.sk-estimator {font-family: monospace;background-color: #f0f8ff;border: 1px dotted black;border-radius: 0.25em;box-sizing: border-box;margin-bottom: 0.5em;}#sk-container-id-1 div.sk-estimator:hover {background-color: #d4ebff;}#sk-container-id-1 div.sk-parallel-item::after {content: \"\";width: 100%;border-bottom: 1px solid gray;flex-grow: 1;}#sk-container-id-1 div.sk-label:hover label.sk-toggleable__label {background-color: #d4ebff;}#sk-container-id-1 div.sk-serial::before {content: \"\";position: absolute;border-left: 1px solid gray;box-sizing: border-box;top: 0;bottom: 0;left: 50%;z-index: 0;}#sk-container-id-1 div.sk-serial {display: flex;flex-direction: column;align-items: center;background-color: white;padding-right: 0.2em;padding-left: 0.2em;position: relative;}#sk-container-id-1 div.sk-item {position: relative;z-index: 1;}#sk-container-id-1 div.sk-parallel {display: flex;align-items: stretch;justify-content: center;background-color: white;position: relative;}#sk-container-id-1 div.sk-item::before, #sk-container-id-1 div.sk-parallel-item::before {content: \"\";position: absolute;border-left: 1px solid gray;box-sizing: border-box;top: 0;bottom: 0;left: 50%;z-index: -1;}#sk-container-id-1 div.sk-parallel-item {display: flex;flex-direction: column;z-index: 1;position: relative;background-color: white;}#sk-container-id-1 div.sk-parallel-item:first-child::after {align-self: flex-end;width: 50%;}#sk-container-id-1 div.sk-parallel-item:last-child::after {align-self: flex-start;width: 50%;}#sk-container-id-1 div.sk-parallel-item:only-child::after {width: 0;}#sk-container-id-1 div.sk-dashed-wrapped {border: 1px dashed gray;margin: 0 0.4em 0.5em 0.4em;box-sizing: border-box;padding-bottom: 0.4em;background-color: white;}#sk-container-id-1 div.sk-label label {font-family: monospace;font-weight: bold;display: inline-block;line-height: 1.2em;}#sk-container-id-1 div.sk-label-container {text-align: center;}#sk-container-id-1 div.sk-container {/* jupyter's `normalize.less` sets `[hidden] { display: none; }` but bootstrap.min.css set `[hidden] { display: none !important; }` so we also need the `!important` here to be able to override the default hidden behavior on the sphinx rendered scikit-learn.org. See: https://github.com/scikit-learn/scikit-learn/issues/21755 */display: inline-block !important;position: relative;}#sk-container-id-1 div.sk-text-repr-fallback {display: none;}</style><div id=\"sk-container-id-1\" class=\"sk-top-container\"><div class=\"sk-text-repr-fallback\"><pre>MLPClassifier(activation=&#x27;tanh&#x27;, early_stopping=True,\n",
       "              hidden_layer_sizes=(10000, 2000), learning_rate=&#x27;adaptive&#x27;,\n",
       "              learning_rate_init=1e-05, max_iter=500, solver=&#x27;lbfgs&#x27;,\n",
       "              verbose=True)</pre><b>In a Jupyter environment, please rerun this cell to show the HTML representation or trust the notebook. <br />On GitHub, the HTML representation is unable to render, please try loading this page with nbviewer.org.</b></div><div class=\"sk-container\" hidden><div class=\"sk-item\"><div class=\"sk-estimator sk-toggleable\"><input class=\"sk-toggleable__control sk-hidden--visually\" id=\"sk-estimator-id-1\" type=\"checkbox\" checked><label for=\"sk-estimator-id-1\" class=\"sk-toggleable__label sk-toggleable__label-arrow\">MLPClassifier</label><div class=\"sk-toggleable__content\"><pre>MLPClassifier(activation=&#x27;tanh&#x27;, early_stopping=True,\n",
       "              hidden_layer_sizes=(10000, 2000), learning_rate=&#x27;adaptive&#x27;,\n",
       "              learning_rate_init=1e-05, max_iter=500, solver=&#x27;lbfgs&#x27;,\n",
       "              verbose=True)</pre></div></div></div></div></div>"
      ],
      "text/plain": [
       "MLPClassifier(activation='tanh', early_stopping=True,\n",
       "              hidden_layer_sizes=(10000, 2000), learning_rate='adaptive',\n",
       "              learning_rate_init=1e-05, max_iter=500, solver='lbfgs',\n",
       "              verbose=True)"
      ]
     },
     "execution_count": 5,
     "metadata": {},
     "output_type": "execute_result"
    }
   ],
   "source": [
    "from sklearn.metrics import accuracy_score\n",
    "from sklearn.model_selection import RandomizedSearchCV\n",
    "\n",
    "# params = { 'hidden_layer_sizes': [(200, 100, 90), (2000, 500, 80), (2000, 1500, 80), (3000, 1000, 80)]\n",
    "#             'solver': ['lbfgs']\n",
    "# }\n",
    "\n",
    "lrs = [1e-4, 0.5e-4, 1e-5, 1.5e-5, 2e-5, 1e-6, 1.5e-6, 2e-6 ]\n",
    "hiddenLayers = [(2500, 2000, 500), (2000, 1000, 500), ()]\n",
    "history = []\n",
    "# for lr in lrs:\n",
    "#     # TODO: Implement RandomSearch framework\n",
    "#     clf = MLPClassifier(hidden_layer_sizes=(5000), max_iter=10000, solver='lbfgs', activation='tanh', learning_rate='adaptive', learning_rate_init=lr, early_stopping=True, verbose=True)\n",
    "#     clf.fit(X_train, y_train)\n",
    "#     predictions = clf.predict(X_test)\n",
    "#     history.append(accuracy_score(y_test, predictions))\n",
    "clf = MLPClassifier(hidden_layer_sizes=(10000, 2000), max_iter=500, solver='lbfgs', activation='tanh', learning_rate='adaptive', learning_rate_init=1e-5, verbose=True, early_stopping=True)\n",
    "clf.fit(X_train, y_train)\n",
    "#predictions = clf.predict(X_test)\n",
    "# gs = GridSearchCV(clf)\n",
    "# print(history)"
   ]
  },
  {
   "cell_type": "code",
   "execution_count": 6,
   "metadata": {},
   "outputs": [
    {
     "name": "stdout",
     "output_type": "stream",
     "text": [
      "              precision    recall  f1-score   support\n",
      "\n",
      "         0.0       0.62      0.62      0.62      1088\n",
      "         1.0       0.62      0.62      0.62      1094\n",
      "\n",
      "    accuracy                           0.62      2182\n",
      "   macro avg       0.62      0.62      0.62      2182\n",
      "weighted avg       0.62      0.62      0.62      2182\n",
      "\n"
     ]
    }
   ],
   "source": [
    "predictions = clf.predict(X_test)\n",
    "print(classification_report(y_test, predictions))"
   ]
  },
  {
   "cell_type": "code",
   "execution_count": 24,
   "metadata": {},
   "outputs": [
    {
     "data": {
      "text/plain": [
       "array([[672, 438],\n",
       "       [385, 687]])"
      ]
     },
     "execution_count": 24,
     "metadata": {},
     "output_type": "execute_result"
    }
   ],
   "source": [
    "confusion_matrix(y_test, predictions)"
   ]
  },
  {
   "cell_type": "code",
   "execution_count": 50,
   "metadata": {},
   "outputs": [],
   "source": [
    "\n",
    "\n",
    "# save the classifier to a file\n",
    "with open(\"./Models/classifier_64perc.pkl\", \"wb\") as file:\n",
    "    pickle.dump(clf, file)"
   ]
  },
  {
   "cell_type": "code",
   "execution_count": 51,
   "metadata": {},
   "outputs": [
    {
     "name": "stdout",
     "output_type": "stream",
     "text": [
      "              precision    recall  f1-score   support\n",
      "\n",
      "         0.0       0.60      0.59      0.59      1051\n",
      "         1.0       0.63      0.64      0.63      1131\n",
      "\n",
      "    accuracy                           0.61      2182\n",
      "   macro avg       0.61      0.61      0.61      2182\n",
      "weighted avg       0.61      0.61      0.61      2182\n",
      "\n"
     ]
    },
    {
     "data": {
      "text/html": [
       "<style>#sk-container-id-13 {color: black;background-color: white;}#sk-container-id-13 pre{padding: 0;}#sk-container-id-13 div.sk-toggleable {background-color: white;}#sk-container-id-13 label.sk-toggleable__label {cursor: pointer;display: block;width: 100%;margin-bottom: 0;padding: 0.3em;box-sizing: border-box;text-align: center;}#sk-container-id-13 label.sk-toggleable__label-arrow:before {content: \"▸\";float: left;margin-right: 0.25em;color: #696969;}#sk-container-id-13 label.sk-toggleable__label-arrow:hover:before {color: black;}#sk-container-id-13 div.sk-estimator:hover label.sk-toggleable__label-arrow:before {color: black;}#sk-container-id-13 div.sk-toggleable__content {max-height: 0;max-width: 0;overflow: hidden;text-align: left;background-color: #f0f8ff;}#sk-container-id-13 div.sk-toggleable__content pre {margin: 0.2em;color: black;border-radius: 0.25em;background-color: #f0f8ff;}#sk-container-id-13 input.sk-toggleable__control:checked~div.sk-toggleable__content {max-height: 200px;max-width: 100%;overflow: auto;}#sk-container-id-13 input.sk-toggleable__control:checked~label.sk-toggleable__label-arrow:before {content: \"▾\";}#sk-container-id-13 div.sk-estimator input.sk-toggleable__control:checked~label.sk-toggleable__label {background-color: #d4ebff;}#sk-container-id-13 div.sk-label input.sk-toggleable__control:checked~label.sk-toggleable__label {background-color: #d4ebff;}#sk-container-id-13 input.sk-hidden--visually {border: 0;clip: rect(1px 1px 1px 1px);clip: rect(1px, 1px, 1px, 1px);height: 1px;margin: -1px;overflow: hidden;padding: 0;position: absolute;width: 1px;}#sk-container-id-13 div.sk-estimator {font-family: monospace;background-color: #f0f8ff;border: 1px dotted black;border-radius: 0.25em;box-sizing: border-box;margin-bottom: 0.5em;}#sk-container-id-13 div.sk-estimator:hover {background-color: #d4ebff;}#sk-container-id-13 div.sk-parallel-item::after {content: \"\";width: 100%;border-bottom: 1px solid gray;flex-grow: 1;}#sk-container-id-13 div.sk-label:hover label.sk-toggleable__label {background-color: #d4ebff;}#sk-container-id-13 div.sk-serial::before {content: \"\";position: absolute;border-left: 1px solid gray;box-sizing: border-box;top: 0;bottom: 0;left: 50%;z-index: 0;}#sk-container-id-13 div.sk-serial {display: flex;flex-direction: column;align-items: center;background-color: white;padding-right: 0.2em;padding-left: 0.2em;position: relative;}#sk-container-id-13 div.sk-item {position: relative;z-index: 1;}#sk-container-id-13 div.sk-parallel {display: flex;align-items: stretch;justify-content: center;background-color: white;position: relative;}#sk-container-id-13 div.sk-item::before, #sk-container-id-13 div.sk-parallel-item::before {content: \"\";position: absolute;border-left: 1px solid gray;box-sizing: border-box;top: 0;bottom: 0;left: 50%;z-index: -1;}#sk-container-id-13 div.sk-parallel-item {display: flex;flex-direction: column;z-index: 1;position: relative;background-color: white;}#sk-container-id-13 div.sk-parallel-item:first-child::after {align-self: flex-end;width: 50%;}#sk-container-id-13 div.sk-parallel-item:last-child::after {align-self: flex-start;width: 50%;}#sk-container-id-13 div.sk-parallel-item:only-child::after {width: 0;}#sk-container-id-13 div.sk-dashed-wrapped {border: 1px dashed gray;margin: 0 0.4em 0.5em 0.4em;box-sizing: border-box;padding-bottom: 0.4em;background-color: white;}#sk-container-id-13 div.sk-label label {font-family: monospace;font-weight: bold;display: inline-block;line-height: 1.2em;}#sk-container-id-13 div.sk-label-container {text-align: center;}#sk-container-id-13 div.sk-container {/* jupyter's `normalize.less` sets `[hidden] { display: none; }` but bootstrap.min.css set `[hidden] { display: none !important; }` so we also need the `!important` here to be able to override the default hidden behavior on the sphinx rendered scikit-learn.org. See: https://github.com/scikit-learn/scikit-learn/issues/21755 */display: inline-block !important;position: relative;}#sk-container-id-13 div.sk-text-repr-fallback {display: none;}</style><div id=\"sk-container-id-13\" class=\"sk-top-container\"><div class=\"sk-text-repr-fallback\"><pre>MLPClassifier(activation=&#x27;tanh&#x27;, early_stopping=True,\n",
       "              hidden_layer_sizes=(5000, 2500, 500), learning_rate=&#x27;adaptive&#x27;,\n",
       "              learning_rate_init=1e-05, max_iter=10000, verbose=True)</pre><b>In a Jupyter environment, please rerun this cell to show the HTML representation or trust the notebook. <br />On GitHub, the HTML representation is unable to render, please try loading this page with nbviewer.org.</b></div><div class=\"sk-container\" hidden><div class=\"sk-item\"><div class=\"sk-estimator sk-toggleable\"><input class=\"sk-toggleable__control sk-hidden--visually\" id=\"sk-estimator-id-13\" type=\"checkbox\" checked><label for=\"sk-estimator-id-13\" class=\"sk-toggleable__label sk-toggleable__label-arrow\">MLPClassifier</label><div class=\"sk-toggleable__content\"><pre>MLPClassifier(activation=&#x27;tanh&#x27;, early_stopping=True,\n",
       "              hidden_layer_sizes=(5000, 2500, 500), learning_rate=&#x27;adaptive&#x27;,\n",
       "              learning_rate_init=1e-05, max_iter=10000, verbose=True)</pre></div></div></div></div></div>"
      ],
      "text/plain": [
       "MLPClassifier(activation='tanh', early_stopping=True,\n",
       "              hidden_layer_sizes=(5000, 2500, 500), learning_rate='adaptive',\n",
       "              learning_rate_init=1e-05, max_iter=10000, verbose=True)"
      ]
     },
     "execution_count": 51,
     "metadata": {},
     "output_type": "execute_result"
    }
   ],
   "source": [
    "# load the saved classifier from the file\n",
    "with open(\"./Models/classifier_64perc.pkl\", \"rb\") as file:\n",
    "    clf = pickle.load(file)\n",
    "\n",
    "predictions = clf.predict(X_test)\n",
    "print(classification_report(y_test, predictions))\n",
    "clf"
   ]
  },
  {
   "cell_type": "code",
   "execution_count": 52,
   "metadata": {},
   "outputs": [
    {
     "name": "stdout",
     "output_type": "stream",
     "text": [
      "              precision    recall  f1-score   support\n",
      "\n",
      "         0.0       0.65      0.65      0.65      4403\n",
      "         1.0       0.64      0.65      0.65      4323\n",
      "\n",
      "    accuracy                           0.65      8726\n",
      "   macro avg       0.65      0.65      0.65      8726\n",
      "weighted avg       0.65      0.65      0.65      8726\n",
      "\n"
     ]
    }
   ],
   "source": [
    "preds = clf.predict(X_train)\n",
    "print(classification_report(y_train, preds))"
   ]
  },
  {
   "cell_type": "code",
   "execution_count": 53,
   "metadata": {},
   "outputs": [
    {
     "data": {
      "text/html": [
       "<style>#sk-container-id-14 {color: black;background-color: white;}#sk-container-id-14 pre{padding: 0;}#sk-container-id-14 div.sk-toggleable {background-color: white;}#sk-container-id-14 label.sk-toggleable__label {cursor: pointer;display: block;width: 100%;margin-bottom: 0;padding: 0.3em;box-sizing: border-box;text-align: center;}#sk-container-id-14 label.sk-toggleable__label-arrow:before {content: \"▸\";float: left;margin-right: 0.25em;color: #696969;}#sk-container-id-14 label.sk-toggleable__label-arrow:hover:before {color: black;}#sk-container-id-14 div.sk-estimator:hover label.sk-toggleable__label-arrow:before {color: black;}#sk-container-id-14 div.sk-toggleable__content {max-height: 0;max-width: 0;overflow: hidden;text-align: left;background-color: #f0f8ff;}#sk-container-id-14 div.sk-toggleable__content pre {margin: 0.2em;color: black;border-radius: 0.25em;background-color: #f0f8ff;}#sk-container-id-14 input.sk-toggleable__control:checked~div.sk-toggleable__content {max-height: 200px;max-width: 100%;overflow: auto;}#sk-container-id-14 input.sk-toggleable__control:checked~label.sk-toggleable__label-arrow:before {content: \"▾\";}#sk-container-id-14 div.sk-estimator input.sk-toggleable__control:checked~label.sk-toggleable__label {background-color: #d4ebff;}#sk-container-id-14 div.sk-label input.sk-toggleable__control:checked~label.sk-toggleable__label {background-color: #d4ebff;}#sk-container-id-14 input.sk-hidden--visually {border: 0;clip: rect(1px 1px 1px 1px);clip: rect(1px, 1px, 1px, 1px);height: 1px;margin: -1px;overflow: hidden;padding: 0;position: absolute;width: 1px;}#sk-container-id-14 div.sk-estimator {font-family: monospace;background-color: #f0f8ff;border: 1px dotted black;border-radius: 0.25em;box-sizing: border-box;margin-bottom: 0.5em;}#sk-container-id-14 div.sk-estimator:hover {background-color: #d4ebff;}#sk-container-id-14 div.sk-parallel-item::after {content: \"\";width: 100%;border-bottom: 1px solid gray;flex-grow: 1;}#sk-container-id-14 div.sk-label:hover label.sk-toggleable__label {background-color: #d4ebff;}#sk-container-id-14 div.sk-serial::before {content: \"\";position: absolute;border-left: 1px solid gray;box-sizing: border-box;top: 0;bottom: 0;left: 50%;z-index: 0;}#sk-container-id-14 div.sk-serial {display: flex;flex-direction: column;align-items: center;background-color: white;padding-right: 0.2em;padding-left: 0.2em;position: relative;}#sk-container-id-14 div.sk-item {position: relative;z-index: 1;}#sk-container-id-14 div.sk-parallel {display: flex;align-items: stretch;justify-content: center;background-color: white;position: relative;}#sk-container-id-14 div.sk-item::before, #sk-container-id-14 div.sk-parallel-item::before {content: \"\";position: absolute;border-left: 1px solid gray;box-sizing: border-box;top: 0;bottom: 0;left: 50%;z-index: -1;}#sk-container-id-14 div.sk-parallel-item {display: flex;flex-direction: column;z-index: 1;position: relative;background-color: white;}#sk-container-id-14 div.sk-parallel-item:first-child::after {align-self: flex-end;width: 50%;}#sk-container-id-14 div.sk-parallel-item:last-child::after {align-self: flex-start;width: 50%;}#sk-container-id-14 div.sk-parallel-item:only-child::after {width: 0;}#sk-container-id-14 div.sk-dashed-wrapped {border: 1px dashed gray;margin: 0 0.4em 0.5em 0.4em;box-sizing: border-box;padding-bottom: 0.4em;background-color: white;}#sk-container-id-14 div.sk-label label {font-family: monospace;font-weight: bold;display: inline-block;line-height: 1.2em;}#sk-container-id-14 div.sk-label-container {text-align: center;}#sk-container-id-14 div.sk-container {/* jupyter's `normalize.less` sets `[hidden] { display: none; }` but bootstrap.min.css set `[hidden] { display: none !important; }` so we also need the `!important` here to be able to override the default hidden behavior on the sphinx rendered scikit-learn.org. See: https://github.com/scikit-learn/scikit-learn/issues/21755 */display: inline-block !important;position: relative;}#sk-container-id-14 div.sk-text-repr-fallback {display: none;}</style><div id=\"sk-container-id-14\" class=\"sk-top-container\"><div class=\"sk-text-repr-fallback\"><pre>MLPClassifier(activation=&#x27;tanh&#x27;, early_stopping=True,\n",
       "              hidden_layer_sizes=(5000, 2500, 500), learning_rate=&#x27;adaptive&#x27;,\n",
       "              learning_rate_init=1e-05, max_iter=10000, verbose=True)</pre><b>In a Jupyter environment, please rerun this cell to show the HTML representation or trust the notebook. <br />On GitHub, the HTML representation is unable to render, please try loading this page with nbviewer.org.</b></div><div class=\"sk-container\" hidden><div class=\"sk-item\"><div class=\"sk-estimator sk-toggleable\"><input class=\"sk-toggleable__control sk-hidden--visually\" id=\"sk-estimator-id-14\" type=\"checkbox\" checked><label for=\"sk-estimator-id-14\" class=\"sk-toggleable__label sk-toggleable__label-arrow\">MLPClassifier</label><div class=\"sk-toggleable__content\"><pre>MLPClassifier(activation=&#x27;tanh&#x27;, early_stopping=True,\n",
       "              hidden_layer_sizes=(5000, 2500, 500), learning_rate=&#x27;adaptive&#x27;,\n",
       "              learning_rate_init=1e-05, max_iter=10000, verbose=True)</pre></div></div></div></div></div>"
      ],
      "text/plain": [
       "MLPClassifier(activation='tanh', early_stopping=True,\n",
       "              hidden_layer_sizes=(5000, 2500, 500), learning_rate='adaptive',\n",
       "              learning_rate_init=1e-05, max_iter=10000, verbose=True)"
      ]
     },
     "execution_count": 53,
     "metadata": {},
     "output_type": "execute_result"
    }
   ],
   "source": [
    "clf"
   ]
  }
 ],
 "metadata": {
  "kernelspec": {
   "display_name": ".venv",
   "language": "python",
   "name": "python3"
  },
  "language_info": {
   "codemirror_mode": {
    "name": "ipython",
    "version": 3
   },
   "file_extension": ".py",
   "mimetype": "text/x-python",
   "name": "python",
   "nbconvert_exporter": "python",
   "pygments_lexer": "ipython3",
   "version": "3.10.9"
  },
  "orig_nbformat": 4,
  "vscode": {
   "interpreter": {
    "hash": "d47694b5d5df9d32f7095686dbcf55167db7ee0546528109a6e8f472eedb4c60"
   }
  }
 },
 "nbformat": 4,
 "nbformat_minor": 2
}
