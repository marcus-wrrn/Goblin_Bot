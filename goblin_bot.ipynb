{
 "cells": [
  {
   "cell_type": "code",
   "execution_count": 87,
   "metadata": {},
   "outputs": [],
   "source": [
    "import pandas as pd\n",
    "import numpy as np\n",
    "from sklearn.model_selection import train_test_split\n"
   ]
  },
  {
   "cell_type": "code",
   "execution_count": 24,
   "metadata": {},
   "outputs": [
    {
     "name": "stdout",
     "output_type": "stream",
     "text": [
      "[1 1 1 0]\n"
     ]
    },
    {
     "name": "stderr",
     "output_type": "stream",
     "text": [
      "/home/mwarren/Projects/GoblinBet/Goblin_Bot/.venv/lib64/python3.10/site-packages/sklearn/neural_network/_multilayer_perceptron.py:679: ConvergenceWarning: Stochastic Optimizer: Maximum iterations (200) reached and the optimization hasn't converged yet.\n",
      "  warnings.warn(\n"
     ]
    }
   ],
   "source": [
    "# import the necessary modules\n",
    "import numpy as np\n",
    "from sklearn.neural_network import MLPClassifier\n",
    "\n",
    "# define the number of inputs, hidden nodes, and output\n",
    "num_inputs = 3\n",
    "num_hidden = 4\n",
    "num_output = 1\n",
    "\n",
    "# initialize the multi-layer perceptron\n",
    "mlp = MLPClassifier(hidden_layer_sizes=(num_hidden,), activation=\"logistic\")\n",
    "\n",
    "# define the input and output data\n",
    "input_data = np.array([[1, 0, 1],\n",
    "                       [0, 1, 0],\n",
    "                       [1, 1, 1],\n",
    "                       [0, 0, 0]])\n",
    "\n",
    "output_data = np.array([1, 0, 1, 0])\n",
    "\n",
    "# train the multi-layer perceptron\n",
    "mlp.fit(input_data, output_data)\n",
    "\n",
    "# use the trained multi-layer perceptron to make predictions\n",
    "predictions = mlp.predict(input_data)\n",
    "\n",
    "# print the predictions\n",
    "print(predictions)\n"
   ]
  },
  {
   "cell_type": "code",
   "execution_count": 46,
   "metadata": {},
   "outputs": [
    {
     "data": {
      "text/html": [
       "<div>\n",
       "<style scoped>\n",
       "    .dataframe tbody tr th:only-of-type {\n",
       "        vertical-align: middle;\n",
       "    }\n",
       "\n",
       "    .dataframe tbody tr th {\n",
       "        vertical-align: top;\n",
       "    }\n",
       "\n",
       "    .dataframe thead th {\n",
       "        text-align: right;\n",
       "    }\n",
       "</style>\n",
       "<table border=\"1\" class=\"dataframe\">\n",
       "  <thead>\n",
       "    <tr style=\"text-align: right;\">\n",
       "      <th></th>\n",
       "      <th>name</th>\n",
       "      <th>desc</th>\n",
       "      <th>cr</th>\n",
       "      <th>immunities</th>\n",
       "      <th>resists</th>\n",
       "      <th>conditions</th>\n",
       "      <th>wins</th>\n",
       "      <th>actions</th>\n",
       "      <th>hp</th>\n",
       "      <th>str</th>\n",
       "      <th>dex</th>\n",
       "      <th>con</th>\n",
       "      <th>int</th>\n",
       "      <th>wis</th>\n",
       "      <th>cha</th>\n",
       "      <th>ac</th>\n",
       "      <th>spd</th>\n",
       "    </tr>\n",
       "  </thead>\n",
       "  <tbody>\n",
       "    <tr>\n",
       "      <th>0</th>\n",
       "      <td>Vrock</td>\n",
       "      <td>Large Fiend Chaotic Evil</td>\n",
       "      <td>6</td>\n",
       "      <td>Poisoned</td>\n",
       "      <td>Bludgeoning,Piercing,Slashing,Cold,Fire,Lightn...</td>\n",
       "      <td>Green Half-Dragon,Dead</td>\n",
       "      <td>NaN</td>\n",
       "      <td>Beak: +5, 2d6+3 Piercing\\tTalons: +5, 2d10+3 S...</td>\n",
       "      <td>15</td>\n",
       "      <td>17</td>\n",
       "      <td>15</td>\n",
       "      <td>18</td>\n",
       "      <td>8</td>\n",
       "      <td>13</td>\n",
       "      <td>8</td>\n",
       "      <td>15</td>\n",
       "      <td>30</td>\n",
       "    </tr>\n",
       "    <tr>\n",
       "      <th>1</th>\n",
       "      <td>Medusa</td>\n",
       "      <td>Medium Monstrosity Lawful Evil</td>\n",
       "      <td>6</td>\n",
       "      <td>NaN</td>\n",
       "      <td>NaN</td>\n",
       "      <td>Boots of Charging,Dead</td>\n",
       "      <td>NaN</td>\n",
       "      <td>Multiattack: Snake Hair, 2 Shortsword, Petrify...</td>\n",
       "      <td>70</td>\n",
       "      <td>10</td>\n",
       "      <td>15</td>\n",
       "      <td>16</td>\n",
       "      <td>12</td>\n",
       "      <td>13</td>\n",
       "      <td>15</td>\n",
       "      <td>15</td>\n",
       "      <td>30</td>\n",
       "    </tr>\n",
       "    <tr>\n",
       "      <th>2</th>\n",
       "      <td>Shield Guardian</td>\n",
       "      <td>Large Construct Unaligned</td>\n",
       "      <td>7</td>\n",
       "      <td>Poison,Charmed,Exhaustion,Frightened,Paralyzed...</td>\n",
       "      <td>NaN</td>\n",
       "      <td>Blessed By God,Regeneration,Stored Spell,Dead</td>\n",
       "      <td>NaN</td>\n",
       "      <td>Fist: +6, 2d6+4 Bludgeoning\\tMultiattack: 2 Fi...</td>\n",
       "      <td>63</td>\n",
       "      <td>18</td>\n",
       "      <td>8</td>\n",
       "      <td>18</td>\n",
       "      <td>7</td>\n",
       "      <td>10</td>\n",
       "      <td>3</td>\n",
       "      <td>17</td>\n",
       "      <td>30</td>\n",
       "    </tr>\n",
       "    <tr>\n",
       "      <th>3</th>\n",
       "      <td>Spirit Naga</td>\n",
       "      <td>Large Monstrosity Chaotic Evil</td>\n",
       "      <td>8</td>\n",
       "      <td>Poison,Poisoned,Charmed</td>\n",
       "      <td>NaN</td>\n",
       "      <td>Power Attacker,Asleep</td>\n",
       "      <td>NaN</td>\n",
       "      <td>Bite: +1, 10ft, 1d6+24 Piercing, 7d8 Poison (C...</td>\n",
       "      <td>37</td>\n",
       "      <td>18</td>\n",
       "      <td>17</td>\n",
       "      <td>14</td>\n",
       "      <td>16</td>\n",
       "      <td>15</td>\n",
       "      <td>16</td>\n",
       "      <td>15</td>\n",
       "      <td>40</td>\n",
       "    </tr>\n",
       "    <tr>\n",
       "      <th>4</th>\n",
       "      <td>Tyrannosaurus Rex</td>\n",
       "      <td>Huge Beast Unaligned</td>\n",
       "      <td>8</td>\n",
       "      <td>NaN</td>\n",
       "      <td>NaN</td>\n",
       "      <td>Always Reckless,On Fire,Dead</td>\n",
       "      <td>NaN</td>\n",
       "      <td>Bite: +9, 10ft, 4d12+7 Piercing, Grappled &amp; Re...</td>\n",
       "      <td>80</td>\n",
       "      <td>25</td>\n",
       "      <td>10</td>\n",
       "      <td>19</td>\n",
       "      <td>2</td>\n",
       "      <td>12</td>\n",
       "      <td>9</td>\n",
       "      <td>13</td>\n",
       "      <td>50</td>\n",
       "    </tr>\n",
       "  </tbody>\n",
       "</table>\n",
       "</div>"
      ],
      "text/plain": [
       "                name                            desc cr  \\\n",
       "0              Vrock        Large Fiend Chaotic Evil  6   \n",
       "1             Medusa  Medium Monstrosity Lawful Evil  6   \n",
       "2    Shield Guardian       Large Construct Unaligned  7   \n",
       "3        Spirit Naga  Large Monstrosity Chaotic Evil  8   \n",
       "4  Tyrannosaurus Rex            Huge Beast Unaligned  8   \n",
       "\n",
       "                                          immunities  \\\n",
       "0                                           Poisoned   \n",
       "1                                                NaN   \n",
       "2  Poison,Charmed,Exhaustion,Frightened,Paralyzed...   \n",
       "3                            Poison,Poisoned,Charmed   \n",
       "4                                                NaN   \n",
       "\n",
       "                                             resists  \\\n",
       "0  Bludgeoning,Piercing,Slashing,Cold,Fire,Lightn...   \n",
       "1                                                NaN   \n",
       "2                                                NaN   \n",
       "3                                                NaN   \n",
       "4                                                NaN   \n",
       "\n",
       "                                      conditions wins  \\\n",
       "0                         Green Half-Dragon,Dead  NaN   \n",
       "1                         Boots of Charging,Dead  NaN   \n",
       "2  Blessed By God,Regeneration,Stored Spell,Dead  NaN   \n",
       "3                          Power Attacker,Asleep  NaN   \n",
       "4                   Always Reckless,On Fire,Dead  NaN   \n",
       "\n",
       "                                             actions  hp  str  dex  con  int  \\\n",
       "0  Beak: +5, 2d6+3 Piercing\\tTalons: +5, 2d10+3 S...  15   17   15   18    8   \n",
       "1  Multiattack: Snake Hair, 2 Shortsword, Petrify...  70   10   15   16   12   \n",
       "2  Fist: +6, 2d6+4 Bludgeoning\\tMultiattack: 2 Fi...  63   18    8   18    7   \n",
       "3  Bite: +1, 10ft, 1d6+24 Piercing, 7d8 Poison (C...  37   18   17   14   16   \n",
       "4  Bite: +9, 10ft, 4d12+7 Piercing, Grappled & Re...  80   25   10   19    2   \n",
       "\n",
       "   wis  cha  ac  spd  \n",
       "0   13    8  15   30  \n",
       "1   13   15  15   30  \n",
       "2   10    3  17   30  \n",
       "3   15   16  15   40  \n",
       "4   12    9  13   50  "
      ]
     },
     "execution_count": 46,
     "metadata": {},
     "output_type": "execute_result"
    }
   ],
   "source": [
    "# Import data\n",
    "dfWin = pd.read_csv(\"./Winners.csv\", index_col=0)\n",
    "dfLose = pd.read_csv(\"./Losers.csv\", index_col=0)\n",
    "dfLose.head()"
   ]
  },
  {
   "attachments": {},
   "cell_type": "markdown",
   "metadata": {},
   "source": [
    "I forgot to put which side the winner and loser were on, therefore I need to randomize where to put the winning creature and where to put the losing creature.\n",
    "This will allow the model from not constantly predicting the creature on a specific side"
   ]
  },
  {
   "cell_type": "code",
   "execution_count": 92,
   "metadata": {},
   "outputs": [],
   "source": [
    "import random\n",
    "# Returns all stat values of a dataframe as a 2d array\n",
    "def getStatsValues(df: pd.DataFrame):\n",
    "    return df.loc[:, [\"hp\", \"str\", \"dex\", \"con\", \"int\", \"wis\", \"cha\", \"ac\", \"spd\"]].values\n",
    "\n",
    "# Get Input values\n",
    "dfWinStats = getStatsValues(dfWin)\n",
    "dfLoseStats = getStatsValues(dfLose)\n",
    "# Append input values together\n",
    "dfStats = np.concatenate([dfWinStats, dfLoseStats], axis=1)\n",
    "# Generate random list representing which side won and which side lost\n",
    "inputY = np.random.randint(low=0,high=2,size=dfStats.shape[0])\n",
    "\n",
    "\n",
    "data = []\n",
    "# Add\n",
    "for i in range(dfWinStats.shape[0]):\n",
    "    if inputY[i]:\n",
    "        res = np.concatenate([dfWinStats[i], dfLoseStats[i]])\n",
    "    else:\n",
    "        res = np.concatenate([dfLoseStats[i], dfWinStats[i]])\n",
    "    data.append(res)"
   ]
  },
  {
   "cell_type": "code",
   "execution_count": 93,
   "metadata": {},
   "outputs": [
    {
     "name": "stdout",
     "output_type": "stream",
     "text": [
      "One: 645\n",
      "Zero: 666\n"
     ]
    }
   ],
   "source": [
    "# Get the distribution of target values\n",
    "\n",
    "one = 0\n",
    "zero = 0\n",
    "\n",
    "for val in inputY:\n",
    "    if val:\n",
    "        one += 1\n",
    "    else:\n",
    "        zero += 1\n",
    "\n",
    "print(f\"One: {one}\")\n",
    "print(f\"Zero: {zero}\")"
   ]
  },
  {
   "cell_type": "code",
   "execution_count": 145,
   "metadata": {},
   "outputs": [],
   "source": [
    "splitSize = 0.9\n",
    "\n",
    "\n",
    "\n",
    "\n",
    "X_train, X_test, y_train, y_test = train_test_split(data, inputY, test_size=(1-splitSize), random_state=47)\n"
   ]
  },
  {
   "cell_type": "code",
   "execution_count": 146,
   "metadata": {},
   "outputs": [
    {
     "name": "stdout",
     "output_type": "stream",
     "text": [
      "18\n"
     ]
    }
   ],
   "source": [
    "print(len(X_test[0]))"
   ]
  },
  {
   "cell_type": "code",
   "execution_count": 147,
   "metadata": {},
   "outputs": [],
   "source": [
    "clf = MLPClassifier(hidden_layer_sizes=(60, 20), max_iter=100000, learning_rate_init=0.00001)\n",
    "\n",
    "clf.fit(X_train, y_train)\n",
    "\n",
    "predictions = clf.predict(X_test)"
   ]
  },
  {
   "cell_type": "code",
   "execution_count": 148,
   "metadata": {},
   "outputs": [
    {
     "name": "stdout",
     "output_type": "stream",
     "text": [
      "              precision    recall  f1-score   support\n",
      "\n",
      "           0       0.61      0.67      0.64        67\n",
      "           1       0.62      0.55      0.59        65\n",
      "\n",
      "    accuracy                           0.61       132\n",
      "   macro avg       0.61      0.61      0.61       132\n",
      "weighted avg       0.61      0.61      0.61       132\n",
      "\n"
     ]
    }
   ],
   "source": [
    "from sklearn.metrics import confusion_matrix, classification_report\n",
    "\n",
    "\n",
    "print(classification_report(y_test, predictions))\n",
    "\n"
   ]
  }
 ],
 "metadata": {
  "kernelspec": {
   "display_name": ".venv",
   "language": "python",
   "name": "python3"
  },
  "language_info": {
   "codemirror_mode": {
    "name": "ipython",
    "version": 3
   },
   "file_extension": ".py",
   "mimetype": "text/x-python",
   "name": "python",
   "nbconvert_exporter": "python",
   "pygments_lexer": "ipython3",
   "version": "3.10.8"
  },
  "orig_nbformat": 4,
  "vscode": {
   "interpreter": {
    "hash": "d47694b5d5df9d32f7095686dbcf55167db7ee0546528109a6e8f472eedb4c60"
   }
  }
 },
 "nbformat": 4,
 "nbformat_minor": 2
}
